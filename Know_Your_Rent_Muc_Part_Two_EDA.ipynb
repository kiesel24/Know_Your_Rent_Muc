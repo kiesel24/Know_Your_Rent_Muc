{
 "cells": [
  {
   "cell_type": "markdown",
   "id": "3fe04b39",
   "metadata": {},
   "source": [
    "# Project \"Know_Your_Rent_Muc\": Part Two\n",
    "# EDA"
   ]
  },
  {
   "cell_type": "markdown",
   "id": "4bf08fc5",
   "metadata": {},
   "source": [
    "In this I explore the data and get more inside information about them. This process is importent to understand the data. With out a deep data understanding it´s going to be difficult to create a good machine learning model."
   ]
  },
  {
   "cell_type": "code",
   "execution_count": 32,
   "id": "303cd791",
   "metadata": {},
   "outputs": [],
   "source": [
    "import pandas as pd"
   ]
  },
  {
   "cell_type": "markdown",
   "id": "ce64a77e",
   "metadata": {},
   "source": [
    "First of all I look at the first 5 rows of the data. I look at them and analyse which data types are there."
   ]
  },
  {
   "cell_type": "code",
   "execution_count": 33,
   "id": "1d57ed98",
   "metadata": {},
   "outputs": [],
   "source": [
    "df = pd.read_csv(\"221211_know_your_rent_muc_data.csv\")"
   ]
  },
  {
   "cell_type": "code",
   "execution_count": 34,
   "id": "89b9a101",
   "metadata": {},
   "outputs": [
    {
     "data": {
      "text/html": [
       "<div>\n",
       "<style scoped>\n",
       "    .dataframe tbody tr th:only-of-type {\n",
       "        vertical-align: middle;\n",
       "    }\n",
       "\n",
       "    .dataframe tbody tr th {\n",
       "        vertical-align: top;\n",
       "    }\n",
       "\n",
       "    .dataframe thead th {\n",
       "        text-align: right;\n",
       "    }\n",
       "</style>\n",
       "<table border=\"1\" class=\"dataframe\">\n",
       "  <thead>\n",
       "    <tr style=\"text-align: right;\">\n",
       "      <th></th>\n",
       "      <th>Unnamed: 0</th>\n",
       "      <th>\"enh_impression_list\"</th>\n",
       "      <th>\"enh_impression_name\"</th>\n",
       "      <th>\"enh_impression_position\"</th>\n",
       "      <th>\"search_sortby\"</th>\n",
       "      <th>\"object_area\"</th>\n",
       "      <th>\"object_city\"</th>\n",
       "      <th>\"object_currency\"</th>\n",
       "      <th>\"object_display_state\"</th>\n",
       "      <th>\"object_district\"</th>\n",
       "      <th>...</th>\n",
       "      <th>\"object_is_special\"</th>\n",
       "      <th>\"object_label\"</th>\n",
       "      <th>\"object_marketingtype\"</th>\n",
       "      <th>\"object_objekt_nutzungsart\"</th>\n",
       "      <th>\"object_objekt_zustand\"</th>\n",
       "      <th>\"object_objektart\"</th>\n",
       "      <th>\"object_objektart_sub\"</th>\n",
       "      <th>\"object_price\"</th>\n",
       "      <th>\"object_rooms\"</th>\n",
       "      <th>\"object_listingtype\"</th>\n",
       "    </tr>\n",
       "  </thead>\n",
       "  <tbody>\n",
       "    <tr>\n",
       "      <th>0</th>\n",
       "      <td>0</td>\n",
       "      <td>Liste</td>\n",
       "      <td>kontakt</td>\n",
       "      <td>1.0</td>\n",
       "      <td>2594468.0</td>\n",
       "      <td>37.00</td>\n",
       "      <td>München</td>\n",
       "      <td>EUR</td>\n",
       "      <td>sel_item</td>\n",
       "      <td>Thalk.Obersendl.-Forsten-Fürstenr.-Solln</td>\n",
       "      <td>...</td>\n",
       "      <td>NaN</td>\n",
       "      <td>new</td>\n",
       "      <td>Miete</td>\n",
       "      <td>WOHNEN</td>\n",
       "      <td>sonstiges</td>\n",
       "      <td>NaN</td>\n",
       "      <td>APARTMENT</td>\n",
       "      <td>1120.00</td>\n",
       "      <td>1.0</td>\n",
       "      <td>standard</td>\n",
       "    </tr>\n",
       "    <tr>\n",
       "      <th>1</th>\n",
       "      <td>1</td>\n",
       "      <td>Liste</td>\n",
       "      <td>kontakt</td>\n",
       "      <td>2.0</td>\n",
       "      <td>177005.0</td>\n",
       "      <td>53.06</td>\n",
       "      <td>München</td>\n",
       "      <td>EUR</td>\n",
       "      <td>sel_item</td>\n",
       "      <td>Thalk.Obersendl.-Forsten-Fürstenr.-Solln</td>\n",
       "      <td>...</td>\n",
       "      <td>top-immo</td>\n",
       "      <td>old</td>\n",
       "      <td>Miete</td>\n",
       "      <td>WOHNEN</td>\n",
       "      <td>sonstiges</td>\n",
       "      <td>NaN</td>\n",
       "      <td>ETAGE</td>\n",
       "      <td>1339.77</td>\n",
       "      <td>2.0</td>\n",
       "      <td>premium</td>\n",
       "    </tr>\n",
       "    <tr>\n",
       "      <th>2</th>\n",
       "      <td>2</td>\n",
       "      <td>Liste</td>\n",
       "      <td>kontakt</td>\n",
       "      <td>3.0</td>\n",
       "      <td>177005.0</td>\n",
       "      <td>64.16</td>\n",
       "      <td>München</td>\n",
       "      <td>EUR</td>\n",
       "      <td>sel_item</td>\n",
       "      <td>Thalk.Obersendl.-Forsten-Fürstenr.-Solln</td>\n",
       "      <td>...</td>\n",
       "      <td>top-immo</td>\n",
       "      <td>old</td>\n",
       "      <td>Miete</td>\n",
       "      <td>WOHNEN</td>\n",
       "      <td>sonstiges</td>\n",
       "      <td>NaN</td>\n",
       "      <td>ETAGE</td>\n",
       "      <td>1509.68</td>\n",
       "      <td>2.0</td>\n",
       "      <td>premium</td>\n",
       "    </tr>\n",
       "    <tr>\n",
       "      <th>3</th>\n",
       "      <td>3</td>\n",
       "      <td>Liste</td>\n",
       "      <td>kontakt</td>\n",
       "      <td>4.0</td>\n",
       "      <td>177005.0</td>\n",
       "      <td>49.46</td>\n",
       "      <td>München</td>\n",
       "      <td>EUR</td>\n",
       "      <td>sel_item</td>\n",
       "      <td>Thalk.Obersendl.-Forsten-Fürstenr.-Solln</td>\n",
       "      <td>...</td>\n",
       "      <td>top-immo</td>\n",
       "      <td>old</td>\n",
       "      <td>Miete</td>\n",
       "      <td>WOHNEN</td>\n",
       "      <td>sonstiges</td>\n",
       "      <td>NaN</td>\n",
       "      <td>ERDGESCHOSS</td>\n",
       "      <td>1600.03</td>\n",
       "      <td>2.0</td>\n",
       "      <td>premium</td>\n",
       "    </tr>\n",
       "    <tr>\n",
       "      <th>4</th>\n",
       "      <td>4</td>\n",
       "      <td>Liste</td>\n",
       "      <td>kontakt</td>\n",
       "      <td>5.0</td>\n",
       "      <td>177005.0</td>\n",
       "      <td>96.23</td>\n",
       "      <td>München</td>\n",
       "      <td>EUR</td>\n",
       "      <td>sel_item</td>\n",
       "      <td>Thalk.Obersendl.-Forsten-Fürstenr.-Solln</td>\n",
       "      <td>...</td>\n",
       "      <td>top-immo</td>\n",
       "      <td>old</td>\n",
       "      <td>Miete</td>\n",
       "      <td>WOHNEN</td>\n",
       "      <td>sonstiges</td>\n",
       "      <td>NaN</td>\n",
       "      <td>ETAGE</td>\n",
       "      <td>2085.30</td>\n",
       "      <td>4.0</td>\n",
       "      <td>premium</td>\n",
       "    </tr>\n",
       "  </tbody>\n",
       "</table>\n",
       "<p>5 rows × 23 columns</p>\n",
       "</div>"
      ],
      "text/plain": [
       "   Unnamed: 0 \"enh_impression_list\" \"enh_impression_name\"  \\\n",
       "0           0                 Liste               kontakt   \n",
       "1           1                 Liste               kontakt   \n",
       "2           2                 Liste               kontakt   \n",
       "3           3                 Liste               kontakt   \n",
       "4           4                 Liste               kontakt   \n",
       "\n",
       "   \"enh_impression_position\"  \"search_sortby\"  \"object_area\" \"object_city\"  \\\n",
       "0                        1.0        2594468.0          37.00       München   \n",
       "1                        2.0         177005.0          53.06       München   \n",
       "2                        3.0         177005.0          64.16       München   \n",
       "3                        4.0         177005.0          49.46       München   \n",
       "4                        5.0         177005.0          96.23       München   \n",
       "\n",
       "  \"object_currency\" \"object_display_state\"  \\\n",
       "0               EUR               sel_item   \n",
       "1               EUR               sel_item   \n",
       "2               EUR               sel_item   \n",
       "3               EUR               sel_item   \n",
       "4               EUR               sel_item   \n",
       "\n",
       "                          \"object_district\"  ... \"object_is_special\"  \\\n",
       "0  Thalk.Obersendl.-Forsten-Fürstenr.-Solln  ...                 NaN   \n",
       "1  Thalk.Obersendl.-Forsten-Fürstenr.-Solln  ...            top-immo   \n",
       "2  Thalk.Obersendl.-Forsten-Fürstenr.-Solln  ...            top-immo   \n",
       "3  Thalk.Obersendl.-Forsten-Fürstenr.-Solln  ...            top-immo   \n",
       "4  Thalk.Obersendl.-Forsten-Fürstenr.-Solln  ...            top-immo   \n",
       "\n",
       "  \"object_label\" \"object_marketingtype\" \"object_objekt_nutzungsart\"  \\\n",
       "0            new                  Miete                      WOHNEN   \n",
       "1            old                  Miete                      WOHNEN   \n",
       "2            old                  Miete                      WOHNEN   \n",
       "3            old                  Miete                      WOHNEN   \n",
       "4            old                  Miete                      WOHNEN   \n",
       "\n",
       "  \"object_objekt_zustand\" \"object_objektart\" \"object_objektart_sub\"  \\\n",
       "0               sonstiges                NaN              APARTMENT   \n",
       "1               sonstiges                NaN                  ETAGE   \n",
       "2               sonstiges                NaN                  ETAGE   \n",
       "3               sonstiges                NaN            ERDGESCHOSS   \n",
       "4               sonstiges                NaN                  ETAGE   \n",
       "\n",
       "  \"object_price\"  \"object_rooms\" \"object_listingtype\"  \n",
       "0        1120.00             1.0             standard  \n",
       "1        1339.77             2.0              premium  \n",
       "2        1509.68             2.0              premium  \n",
       "3        1600.03             2.0              premium  \n",
       "4        2085.30             4.0              premium  \n",
       "\n",
       "[5 rows x 23 columns]"
      ]
     },
     "execution_count": 34,
     "metadata": {},
     "output_type": "execute_result"
    }
   ],
   "source": [
    "df.head()"
   ]
  },
  {
   "cell_type": "markdown",
   "id": "be88d32d",
   "metadata": {},
   "source": [
    "Here are the datatypes of the columns. The datatypes are automatically generated through pandas. Pandas does this most of the time right but were can be mistakes. Examples are that a discrete variable is declared as a continuouse variable. "
   ]
  },
  {
   "cell_type": "code",
   "execution_count": 35,
   "id": "92299512",
   "metadata": {},
   "outputs": [
    {
     "data": {
      "text/plain": [
       "Unnamed: 0                       int64\n",
       "\"enh_impression_list\"           object\n",
       "\"enh_impression_name\"           object\n",
       "\"enh_impression_position\"      float64\n",
       "\"search_sortby\"                float64\n",
       "\"object_area\"                  float64\n",
       "\"object_city\"                   object\n",
       "\"object_currency\"               object\n",
       "\"object_display_state\"          object\n",
       "\"object_district\"               object\n",
       "\"object_features\"               object\n",
       "\"object_federalstate\"           object\n",
       "\"object_gok\"                    object\n",
       "\"object_is_special\"             object\n",
       "\"object_label\"                  object\n",
       "\"object_marketingtype\"          object\n",
       "\"object_objekt_nutzungsart\"     object\n",
       "\"object_objekt_zustand\"         object\n",
       "\"object_objektart\"             float64\n",
       "\"object_objektart_sub\"          object\n",
       "\"object_price\"                 float64\n",
       "\"object_rooms\"                 float64\n",
       "\"object_listingtype\"            object\n",
       "dtype: object"
      ]
     },
     "execution_count": 35,
     "metadata": {},
     "output_type": "execute_result"
    }
   ],
   "source": [
    "df.dtypes"
   ]
  },
  {
   "cell_type": "markdown",
   "id": "b7ff33f0",
   "metadata": {},
   "source": [
    "Here is the summary of the obsarvation:\n",
    "- The unnamed column are the id´s. The id´s are ordinal variables and needs to be transformed to a object. \n",
    "- The same is applicable to \"enh_impression_position\".\n",
    "- The variable \"search_sortby\" is definitely a discret variable, because the variable doesn´t measure something. It need to be transformed to a integer. \n",
    "- The variable \"object_area\" measurement the room size in square feet. The float is here right declared.\n",
    "- The variable \"object_objektart\" seems to have no entities. It can be deleted.\n",
    "- The variable \"object_price\" is a discrete varibale and need to be transformed to a integer. \n",
    "- The same is applicable to \"object_rooms\".\n",
    "- \"object_label\" is binar."
   ]
  },
  {
   "cell_type": "code",
   "execution_count": 36,
   "id": "fdf90bbd",
   "metadata": {},
   "outputs": [],
   "source": [
    "df.rename(columns = {'Unnamed: 0':'id'}, inplace = True)"
   ]
  },
  {
   "cell_type": "code",
   "execution_count": 49,
   "id": "829fcf9e",
   "metadata": {},
   "outputs": [],
   "source": [
    "df['id'] = df['id'].astype(\"object\")\n",
    "df['\"enh_impression_position\"'] = df['\"enh_impression_position\"'].astype(\"string\")\n",
    "df['\"search_sortby\"'] = df['\"search_sortby\"'].astype(\"int\")\n",
    "df['\"object_price\"'] = df['\"object_price\"'].astype(\"int\")\n",
    "df['\"object_rooms\"'] = df['\"object_rooms\"'].astype(\"int\")\n",
    "df = df.drop('\"object_objektart\"', axis=1)"
   ]
  },
  {
   "cell_type": "code",
   "execution_count": 50,
   "id": "23608829",
   "metadata": {
    "scrolled": false
   },
   "outputs": [
    {
     "data": {
      "text/plain": [
       "id                              object\n",
       "\"enh_impression_list\"           object\n",
       "\"enh_impression_name\"           object\n",
       "\"enh_impression_position\"       string\n",
       "\"search_sortby\"                  int64\n",
       "\"object_area\"                  float64\n",
       "\"object_city\"                   object\n",
       "\"object_currency\"               object\n",
       "\"object_display_state\"          object\n",
       "\"object_district\"               object\n",
       "\"object_features\"               object\n",
       "\"object_federalstate\"           object\n",
       "\"object_gok\"                    object\n",
       "\"object_is_special\"             object\n",
       "\"object_label\"                  object\n",
       "\"object_marketingtype\"          object\n",
       "\"object_objekt_nutzungsart\"     object\n",
       "\"object_objekt_zustand\"         object\n",
       "\"object_objektart_sub\"          object\n",
       "\"object_price\"                   int64\n",
       "\"object_rooms\"                   int64\n",
       "\"object_listingtype\"            object\n",
       "dtype: object"
      ]
     },
     "execution_count": 50,
     "metadata": {},
     "output_type": "execute_result"
    }
   ],
   "source": [
    "df.dtypes"
   ]
  },
  {
   "cell_type": "code",
   "execution_count": null,
   "id": "23f36c00",
   "metadata": {},
   "outputs": [],
   "source": []
  }
 ],
 "metadata": {
  "kernelspec": {
   "display_name": "Python 3 (ipykernel)",
   "language": "python",
   "name": "python3"
  },
  "language_info": {
   "codemirror_mode": {
    "name": "ipython",
    "version": 3
   },
   "file_extension": ".py",
   "mimetype": "text/x-python",
   "name": "python",
   "nbconvert_exporter": "python",
   "pygments_lexer": "ipython3",
   "version": "3.9.13"
  }
 },
 "nbformat": 4,
 "nbformat_minor": 5
}
