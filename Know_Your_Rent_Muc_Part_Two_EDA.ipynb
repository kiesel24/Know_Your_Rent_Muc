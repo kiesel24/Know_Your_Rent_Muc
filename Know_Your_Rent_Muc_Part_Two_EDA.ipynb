{
 "cells": [
  {
   "cell_type": "markdown",
   "id": "3fe04b39",
   "metadata": {},
   "source": [
    "# Project \"Know_Your_Rent_Muc\": Part Two\n",
    "# EDA (Exploratory Data Analysis)"
   ]
  },
  {
   "cell_type": "markdown",
   "id": "4bf08fc5",
   "metadata": {},
   "source": [
    "In this part I explore the data to get more inside information about them. This process is importent to understand the data. With out a deep data understanding it´s going to be difficult to create a good machine learning model."
   ]
  },
  {
   "cell_type": "code",
   "execution_count": 79,
   "id": "303cd791",
   "metadata": {},
   "outputs": [],
   "source": [
    "import pandas as pd\n",
    "import matplotlib.pyplot as plt\n",
    "import seaborn as sns"
   ]
  },
  {
   "cell_type": "markdown",
   "id": "ce64a77e",
   "metadata": {},
   "source": [
    "First of all I look at the first 5 rows of the data. I look at them and analyse which data types are there."
   ]
  },
  {
   "cell_type": "code",
   "execution_count": 2,
   "id": "1d57ed98",
   "metadata": {},
   "outputs": [],
   "source": [
    "df = pd.read_csv(\"221211_know_your_rent_muc_data.csv\")"
   ]
  },
  {
   "cell_type": "code",
   "execution_count": 3,
   "id": "89b9a101",
   "metadata": {},
   "outputs": [
    {
     "data": {
      "text/html": [
       "<div>\n",
       "<style scoped>\n",
       "    .dataframe tbody tr th:only-of-type {\n",
       "        vertical-align: middle;\n",
       "    }\n",
       "\n",
       "    .dataframe tbody tr th {\n",
       "        vertical-align: top;\n",
       "    }\n",
       "\n",
       "    .dataframe thead th {\n",
       "        text-align: right;\n",
       "    }\n",
       "</style>\n",
       "<table border=\"1\" class=\"dataframe\">\n",
       "  <thead>\n",
       "    <tr style=\"text-align: right;\">\n",
       "      <th></th>\n",
       "      <th>Unnamed: 0</th>\n",
       "      <th>\"enh_impression_list\"</th>\n",
       "      <th>\"enh_impression_name\"</th>\n",
       "      <th>\"enh_impression_position\"</th>\n",
       "      <th>\"search_sortby\"</th>\n",
       "      <th>\"object_area\"</th>\n",
       "      <th>\"object_city\"</th>\n",
       "      <th>\"object_currency\"</th>\n",
       "      <th>\"object_display_state\"</th>\n",
       "      <th>\"object_district\"</th>\n",
       "      <th>...</th>\n",
       "      <th>\"object_is_special\"</th>\n",
       "      <th>\"object_label\"</th>\n",
       "      <th>\"object_marketingtype\"</th>\n",
       "      <th>\"object_objekt_nutzungsart\"</th>\n",
       "      <th>\"object_objekt_zustand\"</th>\n",
       "      <th>\"object_objektart\"</th>\n",
       "      <th>\"object_objektart_sub\"</th>\n",
       "      <th>\"object_price\"</th>\n",
       "      <th>\"object_rooms\"</th>\n",
       "      <th>\"object_listingtype\"</th>\n",
       "    </tr>\n",
       "  </thead>\n",
       "  <tbody>\n",
       "    <tr>\n",
       "      <th>0</th>\n",
       "      <td>0</td>\n",
       "      <td>Liste</td>\n",
       "      <td>kontakt</td>\n",
       "      <td>1.0</td>\n",
       "      <td>2594468.0</td>\n",
       "      <td>37.00</td>\n",
       "      <td>München</td>\n",
       "      <td>EUR</td>\n",
       "      <td>sel_item</td>\n",
       "      <td>Thalk.Obersendl.-Forsten-Fürstenr.-Solln</td>\n",
       "      <td>...</td>\n",
       "      <td>NaN</td>\n",
       "      <td>new</td>\n",
       "      <td>Miete</td>\n",
       "      <td>WOHNEN</td>\n",
       "      <td>sonstiges</td>\n",
       "      <td>NaN</td>\n",
       "      <td>APARTMENT</td>\n",
       "      <td>1120.00</td>\n",
       "      <td>1.0</td>\n",
       "      <td>standard</td>\n",
       "    </tr>\n",
       "    <tr>\n",
       "      <th>1</th>\n",
       "      <td>1</td>\n",
       "      <td>Liste</td>\n",
       "      <td>kontakt</td>\n",
       "      <td>2.0</td>\n",
       "      <td>177005.0</td>\n",
       "      <td>53.06</td>\n",
       "      <td>München</td>\n",
       "      <td>EUR</td>\n",
       "      <td>sel_item</td>\n",
       "      <td>Thalk.Obersendl.-Forsten-Fürstenr.-Solln</td>\n",
       "      <td>...</td>\n",
       "      <td>top-immo</td>\n",
       "      <td>old</td>\n",
       "      <td>Miete</td>\n",
       "      <td>WOHNEN</td>\n",
       "      <td>sonstiges</td>\n",
       "      <td>NaN</td>\n",
       "      <td>ETAGE</td>\n",
       "      <td>1339.77</td>\n",
       "      <td>2.0</td>\n",
       "      <td>premium</td>\n",
       "    </tr>\n",
       "    <tr>\n",
       "      <th>2</th>\n",
       "      <td>2</td>\n",
       "      <td>Liste</td>\n",
       "      <td>kontakt</td>\n",
       "      <td>3.0</td>\n",
       "      <td>177005.0</td>\n",
       "      <td>64.16</td>\n",
       "      <td>München</td>\n",
       "      <td>EUR</td>\n",
       "      <td>sel_item</td>\n",
       "      <td>Thalk.Obersendl.-Forsten-Fürstenr.-Solln</td>\n",
       "      <td>...</td>\n",
       "      <td>top-immo</td>\n",
       "      <td>old</td>\n",
       "      <td>Miete</td>\n",
       "      <td>WOHNEN</td>\n",
       "      <td>sonstiges</td>\n",
       "      <td>NaN</td>\n",
       "      <td>ETAGE</td>\n",
       "      <td>1509.68</td>\n",
       "      <td>2.0</td>\n",
       "      <td>premium</td>\n",
       "    </tr>\n",
       "    <tr>\n",
       "      <th>3</th>\n",
       "      <td>3</td>\n",
       "      <td>Liste</td>\n",
       "      <td>kontakt</td>\n",
       "      <td>4.0</td>\n",
       "      <td>177005.0</td>\n",
       "      <td>49.46</td>\n",
       "      <td>München</td>\n",
       "      <td>EUR</td>\n",
       "      <td>sel_item</td>\n",
       "      <td>Thalk.Obersendl.-Forsten-Fürstenr.-Solln</td>\n",
       "      <td>...</td>\n",
       "      <td>top-immo</td>\n",
       "      <td>old</td>\n",
       "      <td>Miete</td>\n",
       "      <td>WOHNEN</td>\n",
       "      <td>sonstiges</td>\n",
       "      <td>NaN</td>\n",
       "      <td>ERDGESCHOSS</td>\n",
       "      <td>1600.03</td>\n",
       "      <td>2.0</td>\n",
       "      <td>premium</td>\n",
       "    </tr>\n",
       "    <tr>\n",
       "      <th>4</th>\n",
       "      <td>4</td>\n",
       "      <td>Liste</td>\n",
       "      <td>kontakt</td>\n",
       "      <td>5.0</td>\n",
       "      <td>177005.0</td>\n",
       "      <td>96.23</td>\n",
       "      <td>München</td>\n",
       "      <td>EUR</td>\n",
       "      <td>sel_item</td>\n",
       "      <td>Thalk.Obersendl.-Forsten-Fürstenr.-Solln</td>\n",
       "      <td>...</td>\n",
       "      <td>top-immo</td>\n",
       "      <td>old</td>\n",
       "      <td>Miete</td>\n",
       "      <td>WOHNEN</td>\n",
       "      <td>sonstiges</td>\n",
       "      <td>NaN</td>\n",
       "      <td>ETAGE</td>\n",
       "      <td>2085.30</td>\n",
       "      <td>4.0</td>\n",
       "      <td>premium</td>\n",
       "    </tr>\n",
       "  </tbody>\n",
       "</table>\n",
       "<p>5 rows × 23 columns</p>\n",
       "</div>"
      ],
      "text/plain": [
       "   Unnamed: 0 \"enh_impression_list\" \"enh_impression_name\"  \\\n",
       "0           0                 Liste               kontakt   \n",
       "1           1                 Liste               kontakt   \n",
       "2           2                 Liste               kontakt   \n",
       "3           3                 Liste               kontakt   \n",
       "4           4                 Liste               kontakt   \n",
       "\n",
       "   \"enh_impression_position\"  \"search_sortby\"  \"object_area\" \"object_city\"  \\\n",
       "0                        1.0        2594468.0          37.00       München   \n",
       "1                        2.0         177005.0          53.06       München   \n",
       "2                        3.0         177005.0          64.16       München   \n",
       "3                        4.0         177005.0          49.46       München   \n",
       "4                        5.0         177005.0          96.23       München   \n",
       "\n",
       "  \"object_currency\" \"object_display_state\"  \\\n",
       "0               EUR               sel_item   \n",
       "1               EUR               sel_item   \n",
       "2               EUR               sel_item   \n",
       "3               EUR               sel_item   \n",
       "4               EUR               sel_item   \n",
       "\n",
       "                          \"object_district\"  ... \"object_is_special\"  \\\n",
       "0  Thalk.Obersendl.-Forsten-Fürstenr.-Solln  ...                 NaN   \n",
       "1  Thalk.Obersendl.-Forsten-Fürstenr.-Solln  ...            top-immo   \n",
       "2  Thalk.Obersendl.-Forsten-Fürstenr.-Solln  ...            top-immo   \n",
       "3  Thalk.Obersendl.-Forsten-Fürstenr.-Solln  ...            top-immo   \n",
       "4  Thalk.Obersendl.-Forsten-Fürstenr.-Solln  ...            top-immo   \n",
       "\n",
       "  \"object_label\" \"object_marketingtype\" \"object_objekt_nutzungsart\"  \\\n",
       "0            new                  Miete                      WOHNEN   \n",
       "1            old                  Miete                      WOHNEN   \n",
       "2            old                  Miete                      WOHNEN   \n",
       "3            old                  Miete                      WOHNEN   \n",
       "4            old                  Miete                      WOHNEN   \n",
       "\n",
       "  \"object_objekt_zustand\" \"object_objektart\" \"object_objektart_sub\"  \\\n",
       "0               sonstiges                NaN              APARTMENT   \n",
       "1               sonstiges                NaN                  ETAGE   \n",
       "2               sonstiges                NaN                  ETAGE   \n",
       "3               sonstiges                NaN            ERDGESCHOSS   \n",
       "4               sonstiges                NaN                  ETAGE   \n",
       "\n",
       "  \"object_price\"  \"object_rooms\" \"object_listingtype\"  \n",
       "0        1120.00             1.0             standard  \n",
       "1        1339.77             2.0              premium  \n",
       "2        1509.68             2.0              premium  \n",
       "3        1600.03             2.0              premium  \n",
       "4        2085.30             4.0              premium  \n",
       "\n",
       "[5 rows x 23 columns]"
      ]
     },
     "execution_count": 3,
     "metadata": {},
     "output_type": "execute_result"
    }
   ],
   "source": [
    "df.head()"
   ]
  },
  {
   "cell_type": "markdown",
   "id": "be88d32d",
   "metadata": {},
   "source": [
    "Here are the datatypes of the columns. The datatypes are automatically generated through pandas. Pandas does this most of the time right but were can be mistakes. Examples are that a discrete variable is declared as a continuouse variable. "
   ]
  },
  {
   "cell_type": "code",
   "execution_count": 4,
   "id": "92299512",
   "metadata": {},
   "outputs": [
    {
     "data": {
      "text/plain": [
       "Unnamed: 0                       int64\n",
       "\"enh_impression_list\"           object\n",
       "\"enh_impression_name\"           object\n",
       "\"enh_impression_position\"      float64\n",
       "\"search_sortby\"                float64\n",
       "\"object_area\"                  float64\n",
       "\"object_city\"                   object\n",
       "\"object_currency\"               object\n",
       "\"object_display_state\"          object\n",
       "\"object_district\"               object\n",
       "\"object_features\"               object\n",
       "\"object_federalstate\"           object\n",
       "\"object_gok\"                    object\n",
       "\"object_is_special\"             object\n",
       "\"object_label\"                  object\n",
       "\"object_marketingtype\"          object\n",
       "\"object_objekt_nutzungsart\"     object\n",
       "\"object_objekt_zustand\"         object\n",
       "\"object_objektart\"             float64\n",
       "\"object_objektart_sub\"          object\n",
       "\"object_price\"                 float64\n",
       "\"object_rooms\"                 float64\n",
       "\"object_listingtype\"            object\n",
       "dtype: object"
      ]
     },
     "execution_count": 4,
     "metadata": {},
     "output_type": "execute_result"
    }
   ],
   "source": [
    "df.dtypes"
   ]
  },
  {
   "cell_type": "markdown",
   "id": "b7ff33f0",
   "metadata": {},
   "source": [
    "Here is the summary of the obsarvation:\n",
    "- The unnamed column are the id´s. The id´s are ordinal variables and needs to be transformed to a object. \n",
    "- The same is applicable to \"enh_impression_position\".\n",
    "- The variable \"search_sortby\" is definitely a discret variable, because the variable doesn´t measure something. It need to be transformed to a integer. \n",
    "- The variable \"object_area\" measurement the room size in square feet. The float is here right declared.\n",
    "- The variable \"object_objektart\" seems to have no entries. It can be deleted.\n",
    "- The variable \"object_price\" is a discrete varibale and need to be transformed to a integer. \n",
    "- The same is applicable to \"object_rooms\".\n",
    "- \"object_label\" is binar."
   ]
  },
  {
   "cell_type": "code",
   "execution_count": 5,
   "id": "fb1a962e",
   "metadata": {},
   "outputs": [],
   "source": [
    "df.rename(columns = {'Unnamed: 0':'id'}, inplace = True)"
   ]
  },
  {
   "cell_type": "code",
   "execution_count": 6,
   "id": "829fcf9e",
   "metadata": {},
   "outputs": [],
   "source": [
    "df['id'] = df['id'].astype(\"object\")\n",
    "df['\"enh_impression_position\"'] = df['\"enh_impression_position\"'].astype(\"string\")\n",
    "df['\"search_sortby\"'] = df['\"search_sortby\"'].astype(\"int\")\n",
    "df['\"object_price\"'] = df['\"object_price\"'].astype(\"int\")\n",
    "df['\"object_rooms\"'] = df['\"object_rooms\"'].astype(\"int\")\n",
    "df1 = df.drop('\"object_objektart\"', axis=1)"
   ]
  },
  {
   "cell_type": "code",
   "execution_count": 7,
   "id": "23608829",
   "metadata": {
    "scrolled": false
   },
   "outputs": [
    {
     "data": {
      "text/plain": [
       "id                              object\n",
       "\"enh_impression_list\"           object\n",
       "\"enh_impression_name\"           object\n",
       "\"enh_impression_position\"       string\n",
       "\"search_sortby\"                  int64\n",
       "\"object_area\"                  float64\n",
       "\"object_city\"                   object\n",
       "\"object_currency\"               object\n",
       "\"object_display_state\"          object\n",
       "\"object_district\"               object\n",
       "\"object_features\"               object\n",
       "\"object_federalstate\"           object\n",
       "\"object_gok\"                    object\n",
       "\"object_is_special\"             object\n",
       "\"object_label\"                  object\n",
       "\"object_marketingtype\"          object\n",
       "\"object_objekt_nutzungsart\"     object\n",
       "\"object_objekt_zustand\"         object\n",
       "\"object_objektart_sub\"          object\n",
       "\"object_price\"                   int64\n",
       "\"object_rooms\"                   int64\n",
       "\"object_listingtype\"            object\n",
       "dtype: object"
      ]
     },
     "execution_count": 7,
     "metadata": {},
     "output_type": "execute_result"
    }
   ],
   "source": [
    "df1.dtypes"
   ]
  },
  {
   "cell_type": "markdown",
   "id": "05e1ee20",
   "metadata": {},
   "source": [
    "Now, it´s importent to know which unique values are in the object columns. This helps to understand which columns have a lot of information in it and which not. It also tells me if there are similarity in different columns. The column \"object_gok\" seems like that is just a intern code of the object from the website. It can be also deleted. "
   ]
  },
  {
   "cell_type": "code",
   "execution_count": 8,
   "id": "00bd59b7",
   "metadata": {},
   "outputs": [],
   "source": [
    "def unique_values(df):\n",
    "    for i in df.columns:\n",
    "        if df[i].dtypes == \"object\" and i!=\"id\" and i!='\"object_gok\"':\n",
    "            print(i)\n",
    "            print(df[i].unique())\n",
    "            print(\"------------------\")"
   ]
  },
  {
   "cell_type": "code",
   "execution_count": 9,
   "id": "7e3a6316",
   "metadata": {
    "scrolled": true
   },
   "outputs": [
    {
     "name": "stdout",
     "output_type": "stream",
     "text": [
      "\"enh_impression_list\"\n",
      "['Liste' 'Liste_Objekte_passend']\n",
      "------------------\n",
      "\"enh_impression_name\"\n",
      "['kontakt']\n",
      "------------------\n",
      "\"object_city\"\n",
      "['München' 'Haar' 'Neubiberg' 'Aschheim' 'Ottobrunn' 'Vaterstetten'\n",
      " 'Kirchheim' 'Unterhaching' 'Unterföhring' 'Hergolding' 'Hohenbrunn'\n",
      " 'Taufkirchen' 'Zorneding' 'Poing' 'Höhenkirchen-Siegertsbrunn'\n",
      " 'Oberhaching' 'Garching' 'Brunnthal' 'Kirchseeon' 'Markt Schwaben'\n",
      " 'Unterschleißheim' 'Planegg' 'Gräfelfing' 'Sauerlach' 'Karlsfeld' 'Glonn'\n",
      " 'Eching' 'Krailling' 'Neufahrn' 'Gauting' 'Hallbergmoos' 'Wörth'\n",
      " 'Ebersberg' 'Grafing' 'Germering' 'Dachau' 'Forstern' 'Haimhausen'\n",
      " 'Oberding' 'Gröbenzell' 'Erding' 'Dietramszell' 'Puchheim' 'Tuntenhausen'\n",
      " 'Eichenau' 'Holzkirchen' 'Olching' 'Aßling' 'Starnberg' 'Bergkirchen'\n",
      " 'Gilching' 'Isen' 'Lengdorf' 'Freising' 'Wolfratshausen' 'Bockhorn'\n",
      " 'Geretsried' 'Fürstenfeldbruck' 'Vierkirchen' 'Maisach' 'Marzling' 'Haag'\n",
      " 'Warngau' 'Berglern' 'Feldafing' 'Rechtmehring' 'Münsing' 'Weichs'\n",
      " 'Waakirchen' 'Rott' 'Irschenberg' 'Wörthsee' 'Bad Aibling' 'Zolling'\n",
      " 'Tutzing' 'Miesbach' 'Erdweg' 'Dorfen' 'Großkarolinenfeld' 'Wartenberg'\n",
      " 'Langenpreising' 'Herrsching' 'Mammendorf' 'Eiselfing' 'Kottgeisering'\n",
      " 'Bad Tölz' 'Wasserburg' 'Kolbermoor' 'Inning' 'Odelzhausen' 'Moosburg'\n",
      " 'Wackersberg' 'Erlangen' 'Vogtareuth' 'Pähl' 'Schweitenkirchen'\n",
      " 'Fischbachau' 'Obertaufkirchen' 'Buch' 'Rosenheim' 'Schondorf'\n",
      " 'Schliersee' 'Bad Heilbrunn' 'Bad Wiessee' 'Moorenweis' 'Scheyern'\n",
      " 'Stephanskirchen' 'Tegernsee' 'Utting' 'Schwindegg' 'Babensham' 'Mauern'\n",
      " 'Pfaffenhofen' 'Penzberg' 'Ried' 'Gerolsbach' 'Schiltberg'\n",
      " 'Rottach-Egern' 'Weißach']\n",
      "------------------\n",
      "\"object_currency\"\n",
      "['EUR']\n",
      "------------------\n",
      "\"object_display_state\"\n",
      "['sel_item' 'rec_item']\n",
      "------------------\n",
      "\"object_district\"\n",
      "['Thalk.Obersendl.-Forsten-Fürstenr.-Solln' 'Ramersdorf-Perlach'\n",
      " 'Bogenhausen' 'Neuhausen-Nymphenburg' 'Schwabing-West'\n",
      " 'Pasing-Obermenzing' 'Laim' 'Schwabing-Freimann'\n",
      " 'Aubing-Lochhausen-Langwied' 'Sendling-Westpark' 'Milbertshofen-Am Hart'\n",
      " 'Moosach' 'Maxvorstadt' 'Obergiesing' 'Allach-Untermenzing' nan\n",
      " 'Altstadt-Lehel' 'Sendling' 'Au-Haidhausen' 'Untergiesing-Harlaching'\n",
      " 'Hadern' 'Berg am Laim' 'Trudering-Riem' 'Schwanthalerhöhe'\n",
      " 'Ludwigsvorstadt-Isarvorstadt' 'Feldmoching-Hasenbergl' 'Gronsdorf'\n",
      " 'Haar' 'Neubiberg' 'Unterbiberg' 'Aschheim' 'Ottobrunn' 'Heimstetten'\n",
      " 'Kirchheim' 'Unterföhring' 'Bergham' 'Westerham' 'Am Wald' 'Taufkirchen'\n",
      " 'Zorneding' 'Poing' 'Höhenkirchen' 'Garching' 'Hofolding' 'Kirchseeon'\n",
      " 'Lohhof' 'Martinsried' 'Unterschleißheim' 'Planegg' 'Gräfelfing'\n",
      " 'Altkirchen' 'Glonn' 'Eching' 'Neufahrn' 'Goldach' 'Wörth' 'Mintraching'\n",
      " 'Ebersberg' 'Grafing' 'Neugermering' 'Dachau' 'Forstern' 'Germering'\n",
      " 'Gauting' 'Amperpettenbach' 'Notzing' 'Altenerding' 'Klettham'\n",
      " 'Ascholding' 'Puchheim' 'Erding' 'Biberg' 'Unterbrunn' 'Holzkirchen'\n",
      " 'Olching' 'Aßling' 'Starnberg' 'Neu-Esting' 'Oberbrunn' 'Söcking'\n",
      " 'Unterbachern' 'Steinkirchen' 'Neugilching' 'Langengeisling' 'Isen'\n",
      " 'Gilching' 'Lengdorf' 'Freising' 'Waldram' 'Lerchenfeld' 'Altenhausen'\n",
      " 'Unterstrogn' 'Gartenberg' 'Fürstenfeldbruck' 'Ramelsbach' 'Geretsried'\n",
      " 'Maisach' 'Marzling' 'Neulindach' 'Oberwarngau' 'Berglern' 'Feldafing'\n",
      " 'Hart' 'Freimehring' 'Mitterlern' 'Wimpasing' 'Weichs' 'Schaftlach'\n",
      " 'Rott' 'Irschenberg' 'Walchstadt' 'Bad Aibling' 'Abel' 'Palzing' 'Haag'\n",
      " 'Tutzing' 'Miesbach' 'Traubing' 'Pfaffing' 'Altstetten' 'Harthausen'\n",
      " 'Dorfen' 'Großkarolinenfeld' 'Wartenberg' 'Langenpreising' 'Hauserdörfl'\n",
      " 'Herrsching' 'Mammendorf' 'Kerschdorf' 'Untermarchenbach' 'Breitbrunn'\n",
      " 'Burgerfeld' ' Vils' 'Kolbermoor' 'Altstadt' 'Buch' 'Bad Tölz'\n",
      " 'Dietenhausen' 'Moosburg' 'Oberfischbach' 'Odelzhausen' 'Büchenbach'\n",
      " 'Vogtareuth' 'Kerschlach' 'Sixtnitgern' 'Fischen' 'Raffenstetten'\n",
      " 'Schweitenkirchen' 'Wörnsmühl' 'Oberornau' 'Gastorf' 'West' 'Schliersee'\n",
      " 'Innenstadt' 'Bad Heilbrunn' 'Bad Wiessee' 'Bendlreuth' 'Moorenweis'\n",
      " 'Happing' 'Pang' 'Aising' 'Scheyern' 'Gehering' 'Holzhausen' 'Schwindegg'\n",
      " 'Kainöd' 'Mauern' 'Niederscheyern' 'Penzberg' 'Baindlkirch' 'Högering'\n",
      " 'Pfaffenhofen a d Ilm' 'Tegernbach' 'Haunwang' 'Gerolsbach' 'Aichmühle'\n",
      " 'Wundersdorf' 'Weißach' 'Egern' 'Sulzbach' 'Staudach']\n",
      "------------------\n",
      "\"object_features\"\n",
      "['Balkon|EBK' 'Balkon' nan 'EBK' 'Garten|EBK' 'Garten|Balkon|EBK'\n",
      " 'Garten|Balkon' 'Garten']\n",
      "------------------\n",
      "\"object_federalstate\"\n",
      "['Bayern']\n",
      "------------------\n",
      "\"object_is_special\"\n",
      "[nan 'top-immo' 'top-immo|eyecatcher' 'eyecatcher']\n",
      "------------------\n",
      "\"object_label\"\n",
      "['new' 'old']\n",
      "------------------\n",
      "\"object_marketingtype\"\n",
      "['Miete']\n",
      "------------------\n",
      "\"object_objekt_nutzungsart\"\n",
      "['WOHNEN']\n",
      "------------------\n",
      "\"object_objekt_zustand\"\n",
      "['sonstiges']\n",
      "------------------\n",
      "\"object_objektart_sub\"\n",
      "['APARTMENT' 'ETAGE' 'ERDGESCHOSS' 'Wohnung' 'MAISONETTE' 'DACHGESCHOSS'\n",
      " 'PENTHOUSE' 'LOFT-STUDIO-ATELIER' 'SOUTERRAIN' 'Zimmer']\n",
      "------------------\n",
      "\"object_listingtype\"\n",
      "['standard' 'premium']\n",
      "------------------\n"
     ]
    }
   ],
   "source": [
    "unique_values(df1)"
   ]
  },
  {
   "cell_type": "markdown",
   "id": "3809bcf7",
   "metadata": {},
   "source": [
    "Here is the summary of the obsarvation:\n",
    "- \"enh_impression_list\" and \"enh_impression_name\", \"object_currency\", \"object_display_state\", \"object_federalstate\", \"object_label\", \"object_marketingtype\", \"object_objekt_nutzungsart\", \"object_objekt_zustand\" and \"object_listingtype\" one, respectively two kind of entries. And the entries have no information for the prediction of a rent. They will be deleted.\n",
    "- The column \"object_is_special\" have more kind of values but with informations for the goal prediction.\n",
    "- The column \"object_district\" and \"object_city\" seems to be similar. That need to be looked in detail."
   ]
  },
  {
   "cell_type": "code",
   "execution_count": 28,
   "id": "a68a78fb",
   "metadata": {},
   "outputs": [],
   "source": [
    "df2 = df1.drop(['\"object_gok\"', '\"enh_impression_list\"', '\"enh_impression_name\"', '\"object_currency\"', '\"object_display_state\"', \n",
    "              '\"object_federalstate\"', '\"object_label\"', '\"object_marketingtype\"', '\"object_objekt_nutzungsart\"',\n",
    "             '\"object_objekt_zustand\"', '\"object_listingtype\"', '\"object_is_special\"'], axis=1)"
   ]
  },
  {
   "cell_type": "code",
   "execution_count": 57,
   "id": "931478a2",
   "metadata": {
    "scrolled": false
   },
   "outputs": [
    {
     "data": {
      "text/html": [
       "<div>\n",
       "<style scoped>\n",
       "    .dataframe tbody tr th:only-of-type {\n",
       "        vertical-align: middle;\n",
       "    }\n",
       "\n",
       "    .dataframe tbody tr th {\n",
       "        vertical-align: top;\n",
       "    }\n",
       "\n",
       "    .dataframe thead th {\n",
       "        text-align: right;\n",
       "    }\n",
       "</style>\n",
       "<table border=\"1\" class=\"dataframe\">\n",
       "  <thead>\n",
       "    <tr style=\"text-align: right;\">\n",
       "      <th></th>\n",
       "      <th>id</th>\n",
       "      <th>\"enh_impression_position\"</th>\n",
       "      <th>\"search_sortby\"</th>\n",
       "      <th>\"object_area\"</th>\n",
       "      <th>\"object_city\"</th>\n",
       "      <th>\"object_district\"</th>\n",
       "      <th>\"object_features\"</th>\n",
       "      <th>\"object_objektart_sub\"</th>\n",
       "      <th>\"object_price\"</th>\n",
       "      <th>\"object_rooms\"</th>\n",
       "    </tr>\n",
       "  </thead>\n",
       "  <tbody>\n",
       "    <tr>\n",
       "      <th>0</th>\n",
       "      <td>0</td>\n",
       "      <td>1.0</td>\n",
       "      <td>2594468</td>\n",
       "      <td>37.00</td>\n",
       "      <td>München</td>\n",
       "      <td>Thalk.Obersendl.-Forsten-Fürstenr.-Solln</td>\n",
       "      <td>Balkon|EBK</td>\n",
       "      <td>APARTMENT</td>\n",
       "      <td>1120</td>\n",
       "      <td>1</td>\n",
       "    </tr>\n",
       "    <tr>\n",
       "      <th>1</th>\n",
       "      <td>1</td>\n",
       "      <td>2.0</td>\n",
       "      <td>177005</td>\n",
       "      <td>53.06</td>\n",
       "      <td>München</td>\n",
       "      <td>Thalk.Obersendl.-Forsten-Fürstenr.-Solln</td>\n",
       "      <td>Balkon</td>\n",
       "      <td>ETAGE</td>\n",
       "      <td>1339</td>\n",
       "      <td>2</td>\n",
       "    </tr>\n",
       "    <tr>\n",
       "      <th>2</th>\n",
       "      <td>2</td>\n",
       "      <td>3.0</td>\n",
       "      <td>177005</td>\n",
       "      <td>64.16</td>\n",
       "      <td>München</td>\n",
       "      <td>Thalk.Obersendl.-Forsten-Fürstenr.-Solln</td>\n",
       "      <td>NaN</td>\n",
       "      <td>ETAGE</td>\n",
       "      <td>1509</td>\n",
       "      <td>2</td>\n",
       "    </tr>\n",
       "    <tr>\n",
       "      <th>3</th>\n",
       "      <td>3</td>\n",
       "      <td>4.0</td>\n",
       "      <td>177005</td>\n",
       "      <td>49.46</td>\n",
       "      <td>München</td>\n",
       "      <td>Thalk.Obersendl.-Forsten-Fürstenr.-Solln</td>\n",
       "      <td>NaN</td>\n",
       "      <td>ERDGESCHOSS</td>\n",
       "      <td>1600</td>\n",
       "      <td>2</td>\n",
       "    </tr>\n",
       "    <tr>\n",
       "      <th>4</th>\n",
       "      <td>4</td>\n",
       "      <td>5.0</td>\n",
       "      <td>177005</td>\n",
       "      <td>96.23</td>\n",
       "      <td>München</td>\n",
       "      <td>Thalk.Obersendl.-Forsten-Fürstenr.-Solln</td>\n",
       "      <td>Balkon</td>\n",
       "      <td>ETAGE</td>\n",
       "      <td>2085</td>\n",
       "      <td>4</td>\n",
       "    </tr>\n",
       "  </tbody>\n",
       "</table>\n",
       "</div>"
      ],
      "text/plain": [
       "  id \"enh_impression_position\"  \"search_sortby\"  \"object_area\" \"object_city\"  \\\n",
       "0  0                       1.0          2594468          37.00       München   \n",
       "1  1                       2.0           177005          53.06       München   \n",
       "2  2                       3.0           177005          64.16       München   \n",
       "3  3                       4.0           177005          49.46       München   \n",
       "4  4                       5.0           177005          96.23       München   \n",
       "\n",
       "                          \"object_district\" \"object_features\"  \\\n",
       "0  Thalk.Obersendl.-Forsten-Fürstenr.-Solln        Balkon|EBK   \n",
       "1  Thalk.Obersendl.-Forsten-Fürstenr.-Solln            Balkon   \n",
       "2  Thalk.Obersendl.-Forsten-Fürstenr.-Solln               NaN   \n",
       "3  Thalk.Obersendl.-Forsten-Fürstenr.-Solln               NaN   \n",
       "4  Thalk.Obersendl.-Forsten-Fürstenr.-Solln            Balkon   \n",
       "\n",
       "  \"object_objektart_sub\"  \"object_price\"  \"object_rooms\"  \n",
       "0              APARTMENT            1120               1  \n",
       "1                  ETAGE            1339               2  \n",
       "2                  ETAGE            1509               2  \n",
       "3            ERDGESCHOSS            1600               2  \n",
       "4                  ETAGE            2085               4  "
      ]
     },
     "execution_count": 57,
     "metadata": {},
     "output_type": "execute_result"
    }
   ],
   "source": [
    "df2.head()"
   ]
  },
  {
   "cell_type": "markdown",
   "id": "78f7deca",
   "metadata": {},
   "source": [
    "A closer look to the columns \"object_city\" and \"object_district\" tells me that the \"object_district\" value is for the value \"München\" in the column \"object_city\" the city district. For the other values in the column \"object_district\" they are smaller villages inside a village district. This villages aren´t located in Munich. They are located around the city.  \n",
    "For the machine learning model I will just use the districs of Munich and not the villages around of the city."
   ]
  },
  {
   "cell_type": "markdown",
   "id": "657f8175",
   "metadata": {},
   "source": [
    "To check how many rows I will lose I use the following function:"
   ]
  },
  {
   "cell_type": "code",
   "execution_count": 30,
   "id": "0b36a3ea",
   "metadata": {},
   "outputs": [
    {
     "data": {
      "text/plain": [
       "330"
      ]
     },
     "execution_count": 30,
     "metadata": {},
     "output_type": "execute_result"
    }
   ],
   "source": [
    "len(df2[df2['\"object_city\"']!='München'])"
   ]
  },
  {
   "cell_type": "markdown",
   "id": "93d88a43",
   "metadata": {},
   "source": [
    "Now I will deleted all rows which are not located in munich. After that I delete the column \"object_city\", because it has after this operation no information value. "
   ]
  },
  {
   "cell_type": "code",
   "execution_count": 32,
   "id": "6a3d8970",
   "metadata": {},
   "outputs": [],
   "source": [
    "df3 = df2.loc[df2['\"object_city\"']=='München']"
   ]
  },
  {
   "cell_type": "code",
   "execution_count": 59,
   "id": "3e5d6ed2",
   "metadata": {},
   "outputs": [
    {
     "data": {
      "text/plain": [
       "(595, 10)"
      ]
     },
     "execution_count": 59,
     "metadata": {},
     "output_type": "execute_result"
    }
   ],
   "source": [
    "df3.shape"
   ]
  },
  {
   "cell_type": "markdown",
   "id": "557312e9",
   "metadata": {},
   "source": [
    "Now the column \"object_city\" can be deleted."
   ]
  },
  {
   "cell_type": "code",
   "execution_count": 35,
   "id": "7ed46a33",
   "metadata": {},
   "outputs": [],
   "source": [
    "df4 = df3.drop('\"object_city\"', axis=1)"
   ]
  },
  {
   "cell_type": "code",
   "execution_count": 55,
   "id": "048ca063",
   "metadata": {},
   "outputs": [
    {
     "data": {
      "text/html": [
       "<div>\n",
       "<style scoped>\n",
       "    .dataframe tbody tr th:only-of-type {\n",
       "        vertical-align: middle;\n",
       "    }\n",
       "\n",
       "    .dataframe tbody tr th {\n",
       "        vertical-align: top;\n",
       "    }\n",
       "\n",
       "    .dataframe thead th {\n",
       "        text-align: right;\n",
       "    }\n",
       "</style>\n",
       "<table border=\"1\" class=\"dataframe\">\n",
       "  <thead>\n",
       "    <tr style=\"text-align: right;\">\n",
       "      <th></th>\n",
       "      <th>id</th>\n",
       "      <th>\"enh_impression_position\"</th>\n",
       "      <th>\"search_sortby\"</th>\n",
       "      <th>\"object_area\"</th>\n",
       "      <th>\"object_district\"</th>\n",
       "      <th>\"object_features\"</th>\n",
       "      <th>\"object_objektart_sub\"</th>\n",
       "      <th>\"object_price\"</th>\n",
       "      <th>\"object_rooms\"</th>\n",
       "    </tr>\n",
       "  </thead>\n",
       "  <tbody>\n",
       "    <tr>\n",
       "      <th>0</th>\n",
       "      <td>0</td>\n",
       "      <td>1.0</td>\n",
       "      <td>2594468</td>\n",
       "      <td>37.00</td>\n",
       "      <td>Thalk.Obersendl.-Forsten-Fürstenr.-Solln</td>\n",
       "      <td>Balkon|EBK</td>\n",
       "      <td>APARTMENT</td>\n",
       "      <td>1120</td>\n",
       "      <td>1</td>\n",
       "    </tr>\n",
       "    <tr>\n",
       "      <th>1</th>\n",
       "      <td>1</td>\n",
       "      <td>2.0</td>\n",
       "      <td>177005</td>\n",
       "      <td>53.06</td>\n",
       "      <td>Thalk.Obersendl.-Forsten-Fürstenr.-Solln</td>\n",
       "      <td>Balkon</td>\n",
       "      <td>ETAGE</td>\n",
       "      <td>1339</td>\n",
       "      <td>2</td>\n",
       "    </tr>\n",
       "    <tr>\n",
       "      <th>2</th>\n",
       "      <td>2</td>\n",
       "      <td>3.0</td>\n",
       "      <td>177005</td>\n",
       "      <td>64.16</td>\n",
       "      <td>Thalk.Obersendl.-Forsten-Fürstenr.-Solln</td>\n",
       "      <td>NaN</td>\n",
       "      <td>ETAGE</td>\n",
       "      <td>1509</td>\n",
       "      <td>2</td>\n",
       "    </tr>\n",
       "    <tr>\n",
       "      <th>3</th>\n",
       "      <td>3</td>\n",
       "      <td>4.0</td>\n",
       "      <td>177005</td>\n",
       "      <td>49.46</td>\n",
       "      <td>Thalk.Obersendl.-Forsten-Fürstenr.-Solln</td>\n",
       "      <td>NaN</td>\n",
       "      <td>ERDGESCHOSS</td>\n",
       "      <td>1600</td>\n",
       "      <td>2</td>\n",
       "    </tr>\n",
       "    <tr>\n",
       "      <th>4</th>\n",
       "      <td>4</td>\n",
       "      <td>5.0</td>\n",
       "      <td>177005</td>\n",
       "      <td>96.23</td>\n",
       "      <td>Thalk.Obersendl.-Forsten-Fürstenr.-Solln</td>\n",
       "      <td>Balkon</td>\n",
       "      <td>ETAGE</td>\n",
       "      <td>2085</td>\n",
       "      <td>4</td>\n",
       "    </tr>\n",
       "  </tbody>\n",
       "</table>\n",
       "</div>"
      ],
      "text/plain": [
       "  id \"enh_impression_position\"  \"search_sortby\"  \"object_area\"  \\\n",
       "0  0                       1.0          2594468          37.00   \n",
       "1  1                       2.0           177005          53.06   \n",
       "2  2                       3.0           177005          64.16   \n",
       "3  3                       4.0           177005          49.46   \n",
       "4  4                       5.0           177005          96.23   \n",
       "\n",
       "                          \"object_district\" \"object_features\"  \\\n",
       "0  Thalk.Obersendl.-Forsten-Fürstenr.-Solln        Balkon|EBK   \n",
       "1  Thalk.Obersendl.-Forsten-Fürstenr.-Solln            Balkon   \n",
       "2  Thalk.Obersendl.-Forsten-Fürstenr.-Solln               NaN   \n",
       "3  Thalk.Obersendl.-Forsten-Fürstenr.-Solln               NaN   \n",
       "4  Thalk.Obersendl.-Forsten-Fürstenr.-Solln            Balkon   \n",
       "\n",
       "  \"object_objektart_sub\"  \"object_price\"  \"object_rooms\"  \n",
       "0              APARTMENT            1120               1  \n",
       "1                  ETAGE            1339               2  \n",
       "2                  ETAGE            1509               2  \n",
       "3            ERDGESCHOSS            1600               2  \n",
       "4                  ETAGE            2085               4  "
      ]
     },
     "execution_count": 55,
     "metadata": {},
     "output_type": "execute_result"
    }
   ],
   "source": [
    "df4.head()"
   ]
  },
  {
   "cell_type": "markdown",
   "id": "5becf6c1",
   "metadata": {},
   "source": [
    "Now I look closer to the categorical variables. Here I try to find out how often each unique value is occur in the columns. This gives me a feeling how the data is distribute and which values appears often or rare. Additionally I check how many different unique values there are."
   ]
  },
  {
   "cell_type": "code",
   "execution_count": 39,
   "id": "ec579356",
   "metadata": {
    "scrolled": true
   },
   "outputs": [
    {
     "data": {
      "text/plain": [
       "Thalk.Obersendl.-Forsten-Fürstenr.-Solln    0.125637\n",
       "Aubing-Lochhausen-Langwied                  0.081494\n",
       "Bogenhausen                                 0.073005\n",
       "Ramersdorf-Perlach                          0.071307\n",
       "Schwabing-Freimann                          0.067912\n",
       "Neuhausen-Nymphenburg                       0.054329\n",
       "Pasing-Obermenzing                          0.052632\n",
       "Maxvorstadt                                 0.050934\n",
       "Altstadt-Lehel                              0.042445\n",
       "Ludwigsvorstadt-Isarvorstadt                0.037351\n",
       "Untergiesing-Harlaching                     0.035654\n",
       "Sendling                                    0.033956\n",
       "Moosach                                     0.030560\n",
       "Au-Haidhausen                               0.030560\n",
       "Schwabing-West                              0.027165\n",
       "Sendling-Westpark                           0.027165\n",
       "Obergiesing                                 0.025467\n",
       "Milbertshofen-Am Hart                       0.023769\n",
       "Trudering-Riem                              0.022071\n",
       "Hadern                                      0.020374\n",
       "Allach-Untermenzing                         0.016978\n",
       "Schwanthalerhöhe                            0.013582\n",
       "Laim                                        0.013582\n",
       "Berg am Laim                                0.013582\n",
       "Feldmoching-Hasenbergl                      0.008489\n",
       "Name: \"object_district\", dtype: float64"
      ]
     },
     "execution_count": 39,
     "metadata": {},
     "output_type": "execute_result"
    }
   ],
   "source": [
    "df4['\"object_district\"'].value_counts(normalize=True) "
   ]
  },
  {
   "cell_type": "code",
   "execution_count": 96,
   "id": "0f4f64eb",
   "metadata": {},
   "outputs": [
    {
     "data": {
      "text/plain": [
       "25"
      ]
     },
     "execution_count": 96,
     "metadata": {},
     "output_type": "execute_result"
    }
   ],
   "source": [
    "len(df4['\"object_district\"'].value_counts(normalize=True))"
   ]
  },
  {
   "cell_type": "code",
   "execution_count": 100,
   "id": "961fdb8f",
   "metadata": {},
   "outputs": [
    {
     "data": {
      "image/png": "[encoded data removed]",
      "text/plain": [
       "<Figure size 640x480 with 1 Axes>"
      ]
     },
     "metadata": {},
     "output_type": "display_data"
    }
   ],
   "source": [
    "df4['\"object_district\"'].value_counts(normalize=True).plot.pie()\n",
    "plt.show()"
   ]
  },
  {
   "cell_type": "markdown",
   "id": "d2fe4032",
   "metadata": {},
   "source": [
    "The data in \"object_district\" is wide spreaded and how many different unique values (25). This means that there are no areas which have the most rentable flats. "
   ]
  },
  {
   "cell_type": "code",
   "execution_count": 38,
   "id": "ee0bd043",
   "metadata": {
    "scrolled": true
   },
   "outputs": [
    {
     "data": {
      "text/plain": [
       "Wohnung                0.366387\n",
       "ETAGE                  0.324370\n",
       "DACHGESCHOSS           0.089076\n",
       "ERDGESCHOSS            0.084034\n",
       "APARTMENT              0.065546\n",
       "MAISONETTE             0.036975\n",
       "PENTHOUSE              0.013445\n",
       "LOFT-STUDIO-ATELIER    0.010084\n",
       "SOUTERRAIN             0.010084\n",
       "Name: \"object_objektart_sub\", dtype: float64"
      ]
     },
     "execution_count": 38,
     "metadata": {},
     "output_type": "execute_result"
    }
   ],
   "source": [
    "df4['\"object_objektart_sub\"'].value_counts(normalize=True) "
   ]
  },
  {
   "cell_type": "code",
   "execution_count": 41,
   "id": "9652cbb4",
   "metadata": {},
   "outputs": [
    {
     "data": {
      "text/plain": [
       "9"
      ]
     },
     "execution_count": 41,
     "metadata": {},
     "output_type": "execute_result"
    }
   ],
   "source": [
    "len(df4['\"object_objektart_sub\"'].value_counts(normalize=True))"
   ]
  },
  {
   "cell_type": "code",
   "execution_count": 102,
   "id": "f42ae52c",
   "metadata": {},
   "outputs": [
    {
     "data": {
      "image/png": "[encoded data removed]",
      "text/plain": [
       "<Figure size 640x480 with 1 Axes>"
      ]
     },
     "metadata": {},
     "output_type": "display_data"
    }
   ],
   "source": [
    "df4['\"object_objektart_sub\"'].value_counts(normalize=True).plot.pie()\n",
    "plt.show()"
   ]
  },
  {
   "cell_type": "markdown",
   "id": "0d65e00a",
   "metadata": {},
   "source": [
    "In this column we see that almost 80% of the data are the values \"Wohung\", \"ETAGE\", \"DACHGESCHOSS\". Every value is here a specific kind of a flat, except the value \"Wohnung\". This a general expression for a flat. This means that all \"Wohnung\" values can inlcude one of the other values. This can inpurity can lead to a weak correlation to the target variable (\"object_price\"). \n",
    "\n",
    "This is a nice example of how importent it is to understand your data!"
   ]
  },
  {
   "cell_type": "code",
   "execution_count": 37,
   "id": "750c4bd0",
   "metadata": {
    "scrolled": true
   },
   "outputs": [
    {
     "data": {
      "text/plain": [
       "Balkon|EBK           0.335227\n",
       "Balkon               0.234848\n",
       "EBK                  0.164773\n",
       "Garten|Balkon|EBK    0.096591\n",
       "Garten|EBK           0.085227\n",
       "Garten|Balkon        0.049242\n",
       "Garten               0.034091\n",
       "Name: \"object_features\", dtype: float64"
      ]
     },
     "execution_count": 37,
     "metadata": {},
     "output_type": "execute_result"
    }
   ],
   "source": [
    "df4['\"object_features\"'].value_counts(normalize=True) "
   ]
  },
  {
   "cell_type": "code",
   "execution_count": 42,
   "id": "60b08efc",
   "metadata": {},
   "outputs": [
    {
     "data": {
      "text/plain": [
       "7"
      ]
     },
     "execution_count": 42,
     "metadata": {},
     "output_type": "execute_result"
    }
   ],
   "source": [
    "len(df4['\"object_features\"'].value_counts(normalize=True))"
   ]
  },
  {
   "cell_type": "code",
   "execution_count": 103,
   "id": "20dc4f0c",
   "metadata": {},
   "outputs": [
    {
     "data": {
      "image/png": "[encoded data removed]",
      "text/plain": [
       "<Figure size 640x480 with 1 Axes>"
      ]
     },
     "metadata": {},
     "output_type": "display_data"
    }
   ],
   "source": [
    "df4['\"object_features\"'].value_counts(normalize=True).plot.pie()\n",
    "plt.show()"
   ]
  },
  {
   "cell_type": "markdown",
   "id": "a8457b78",
   "metadata": {},
   "source": [
    "The values of this column aren´t that spreaded like the values of \"object_district\". The values here are similar to \"object_objektart_sub\", except that here not so many \"niche\" values."
   ]
  },
  {
   "cell_type": "markdown",
   "id": "e47a26a8",
   "metadata": {},
   "source": [
    "The next challenges will be to transform object data to numeric values. The challenge here is to choose the right technique, which not harm the machine learning modell."
   ]
  },
  {
   "cell_type": "markdown",
   "id": "65cf5f90",
   "metadata": {},
   "source": [
    "Because all the object features are nominal the simplest method to encode them is the One-Hot Encoding. In the process each unique value each object column will be transformed to the value \"1\" and also get his own column. All other values in this column will be \"0\"."
   ]
  },
  {
   "cell_type": "code",
   "execution_count": 48,
   "id": "d7394796",
   "metadata": {},
   "outputs": [],
   "source": [
    "def one_hot_encoding(df):\n",
    "    for i in df:\n",
    "        if df[i].dtypes == \"object\" and i !=\"id\":\n",
    "            df = pd.get_dummies(data=df, columns=[i])\n",
    "    return df"
   ]
  },
  {
   "cell_type": "code",
   "execution_count": 49,
   "id": "f60802a5",
   "metadata": {},
   "outputs": [],
   "source": [
    "df5 = one_hot_encoding(df4)"
   ]
  },
  {
   "cell_type": "code",
   "execution_count": 63,
   "id": "f3336075",
   "metadata": {},
   "outputs": [
    {
     "data": {
      "text/html": [
       "<div>\n",
       "<style scoped>\n",
       "    .dataframe tbody tr th:only-of-type {\n",
       "        vertical-align: middle;\n",
       "    }\n",
       "\n",
       "    .dataframe tbody tr th {\n",
       "        vertical-align: top;\n",
       "    }\n",
       "\n",
       "    .dataframe thead th {\n",
       "        text-align: right;\n",
       "    }\n",
       "</style>\n",
       "<table border=\"1\" class=\"dataframe\">\n",
       "  <thead>\n",
       "    <tr style=\"text-align: right;\">\n",
       "      <th></th>\n",
       "      <th>id</th>\n",
       "      <th>\"enh_impression_position\"</th>\n",
       "      <th>\"search_sortby\"</th>\n",
       "      <th>\"object_area\"</th>\n",
       "      <th>\"object_price\"</th>\n",
       "      <th>\"object_rooms\"</th>\n",
       "      <th>\"object_district\"_Allach-Untermenzing</th>\n",
       "      <th>\"object_district\"_Altstadt-Lehel</th>\n",
       "      <th>\"object_district\"_Au-Haidhausen</th>\n",
       "      <th>\"object_district\"_Aubing-Lochhausen-Langwied</th>\n",
       "      <th>...</th>\n",
       "      <th>\"object_features\"_Garten|EBK</th>\n",
       "      <th>\"object_objektart_sub\"_APARTMENT</th>\n",
       "      <th>\"object_objektart_sub\"_DACHGESCHOSS</th>\n",
       "      <th>\"object_objektart_sub\"_ERDGESCHOSS</th>\n",
       "      <th>\"object_objektart_sub\"_ETAGE</th>\n",
       "      <th>\"object_objektart_sub\"_LOFT-STUDIO-ATELIER</th>\n",
       "      <th>\"object_objektart_sub\"_MAISONETTE</th>\n",
       "      <th>\"object_objektart_sub\"_PENTHOUSE</th>\n",
       "      <th>\"object_objektart_sub\"_SOUTERRAIN</th>\n",
       "      <th>\"object_objektart_sub\"_Wohnung</th>\n",
       "    </tr>\n",
       "  </thead>\n",
       "  <tbody>\n",
       "    <tr>\n",
       "      <th>0</th>\n",
       "      <td>0</td>\n",
       "      <td>1.0</td>\n",
       "      <td>2594468</td>\n",
       "      <td>37.00</td>\n",
       "      <td>1120</td>\n",
       "      <td>1</td>\n",
       "      <td>0</td>\n",
       "      <td>0</td>\n",
       "      <td>0</td>\n",
       "      <td>0</td>\n",
       "      <td>...</td>\n",
       "      <td>0</td>\n",
       "      <td>1</td>\n",
       "      <td>0</td>\n",
       "      <td>0</td>\n",
       "      <td>0</td>\n",
       "      <td>0</td>\n",
       "      <td>0</td>\n",
       "      <td>0</td>\n",
       "      <td>0</td>\n",
       "      <td>0</td>\n",
       "    </tr>\n",
       "    <tr>\n",
       "      <th>1</th>\n",
       "      <td>1</td>\n",
       "      <td>2.0</td>\n",
       "      <td>177005</td>\n",
       "      <td>53.06</td>\n",
       "      <td>1339</td>\n",
       "      <td>2</td>\n",
       "      <td>0</td>\n",
       "      <td>0</td>\n",
       "      <td>0</td>\n",
       "      <td>0</td>\n",
       "      <td>...</td>\n",
       "      <td>0</td>\n",
       "      <td>0</td>\n",
       "      <td>0</td>\n",
       "      <td>0</td>\n",
       "      <td>1</td>\n",
       "      <td>0</td>\n",
       "      <td>0</td>\n",
       "      <td>0</td>\n",
       "      <td>0</td>\n",
       "      <td>0</td>\n",
       "    </tr>\n",
       "    <tr>\n",
       "      <th>2</th>\n",
       "      <td>2</td>\n",
       "      <td>3.0</td>\n",
       "      <td>177005</td>\n",
       "      <td>64.16</td>\n",
       "      <td>1509</td>\n",
       "      <td>2</td>\n",
       "      <td>0</td>\n",
       "      <td>0</td>\n",
       "      <td>0</td>\n",
       "      <td>0</td>\n",
       "      <td>...</td>\n",
       "      <td>0</td>\n",
       "      <td>0</td>\n",
       "      <td>0</td>\n",
       "      <td>0</td>\n",
       "      <td>1</td>\n",
       "      <td>0</td>\n",
       "      <td>0</td>\n",
       "      <td>0</td>\n",
       "      <td>0</td>\n",
       "      <td>0</td>\n",
       "    </tr>\n",
       "    <tr>\n",
       "      <th>3</th>\n",
       "      <td>3</td>\n",
       "      <td>4.0</td>\n",
       "      <td>177005</td>\n",
       "      <td>49.46</td>\n",
       "      <td>1600</td>\n",
       "      <td>2</td>\n",
       "      <td>0</td>\n",
       "      <td>0</td>\n",
       "      <td>0</td>\n",
       "      <td>0</td>\n",
       "      <td>...</td>\n",
       "      <td>0</td>\n",
       "      <td>0</td>\n",
       "      <td>0</td>\n",
       "      <td>1</td>\n",
       "      <td>0</td>\n",
       "      <td>0</td>\n",
       "      <td>0</td>\n",
       "      <td>0</td>\n",
       "      <td>0</td>\n",
       "      <td>0</td>\n",
       "    </tr>\n",
       "    <tr>\n",
       "      <th>4</th>\n",
       "      <td>4</td>\n",
       "      <td>5.0</td>\n",
       "      <td>177005</td>\n",
       "      <td>96.23</td>\n",
       "      <td>2085</td>\n",
       "      <td>4</td>\n",
       "      <td>0</td>\n",
       "      <td>0</td>\n",
       "      <td>0</td>\n",
       "      <td>0</td>\n",
       "      <td>...</td>\n",
       "      <td>0</td>\n",
       "      <td>0</td>\n",
       "      <td>0</td>\n",
       "      <td>0</td>\n",
       "      <td>1</td>\n",
       "      <td>0</td>\n",
       "      <td>0</td>\n",
       "      <td>0</td>\n",
       "      <td>0</td>\n",
       "      <td>0</td>\n",
       "    </tr>\n",
       "  </tbody>\n",
       "</table>\n",
       "<p>5 rows × 47 columns</p>\n",
       "</div>"
      ],
      "text/plain": [
       "  id \"enh_impression_position\"  \"search_sortby\"  \"object_area\"  \\\n",
       "0  0                       1.0          2594468          37.00   \n",
       "1  1                       2.0           177005          53.06   \n",
       "2  2                       3.0           177005          64.16   \n",
       "3  3                       4.0           177005          49.46   \n",
       "4  4                       5.0           177005          96.23   \n",
       "\n",
       "   \"object_price\"  \"object_rooms\"  \"object_district\"_Allach-Untermenzing  \\\n",
       "0            1120               1                                      0   \n",
       "1            1339               2                                      0   \n",
       "2            1509               2                                      0   \n",
       "3            1600               2                                      0   \n",
       "4            2085               4                                      0   \n",
       "\n",
       "   \"object_district\"_Altstadt-Lehel  \"object_district\"_Au-Haidhausen  \\\n",
       "0                                 0                                0   \n",
       "1                                 0                                0   \n",
       "2                                 0                                0   \n",
       "3                                 0                                0   \n",
       "4                                 0                                0   \n",
       "\n",
       "   \"object_district\"_Aubing-Lochhausen-Langwied  ...  \\\n",
       "0                                             0  ...   \n",
       "1                                             0  ...   \n",
       "2                                             0  ...   \n",
       "3                                             0  ...   \n",
       "4                                             0  ...   \n",
       "\n",
       "   \"object_features\"_Garten|EBK  \"object_objektart_sub\"_APARTMENT  \\\n",
       "0                             0                                 1   \n",
       "1                             0                                 0   \n",
       "2                             0                                 0   \n",
       "3                             0                                 0   \n",
       "4                             0                                 0   \n",
       "\n",
       "   \"object_objektart_sub\"_DACHGESCHOSS  \"object_objektart_sub\"_ERDGESCHOSS  \\\n",
       "0                                    0                                   0   \n",
       "1                                    0                                   0   \n",
       "2                                    0                                   0   \n",
       "3                                    0                                   1   \n",
       "4                                    0                                   0   \n",
       "\n",
       "   \"object_objektart_sub\"_ETAGE  \"object_objektart_sub\"_LOFT-STUDIO-ATELIER  \\\n",
       "0                             0                                           0   \n",
       "1                             1                                           0   \n",
       "2                             1                                           0   \n",
       "3                             0                                           0   \n",
       "4                             1                                           0   \n",
       "\n",
       "   \"object_objektart_sub\"_MAISONETTE  \"object_objektart_sub\"_PENTHOUSE  \\\n",
       "0                                  0                                 0   \n",
       "1                                  0                                 0   \n",
       "2                                  0                                 0   \n",
       "3                                  0                                 0   \n",
       "4                                  0                                 0   \n",
       "\n",
       "   \"object_objektart_sub\"_SOUTERRAIN  \"object_objektart_sub\"_Wohnung  \n",
       "0                                  0                               0  \n",
       "1                                  0                               0  \n",
       "2                                  0                               0  \n",
       "3                                  0                               0  \n",
       "4                                  0                               0  \n",
       "\n",
       "[5 rows x 47 columns]"
      ]
     },
     "execution_count": 63,
     "metadata": {},
     "output_type": "execute_result"
    }
   ],
   "source": [
    "df5.head()"
   ]
  },
  {
   "cell_type": "code",
   "execution_count": 53,
   "id": "cf9defa6",
   "metadata": {},
   "outputs": [
    {
     "data": {
      "text/plain": [
       "(595, 47)"
      ]
     },
     "execution_count": 53,
     "metadata": {},
     "output_type": "execute_result"
    }
   ],
   "source": [
    "df5.shape"
   ]
  },
  {
   "cell_type": "markdown",
   "id": "d8362edc",
   "metadata": {},
   "source": [
    "Now there are clearly more columns then before. This can be lead to overfitting model, but nevertheless this is for this kind of data type the best option. To solve the problems of a overfittung model there are other options."
   ]
  },
  {
   "cell_type": "markdown",
   "id": "dc54859f",
   "metadata": {},
   "source": [
    "The next part is to look closer to the numeric values."
   ]
  },
  {
   "cell_type": "markdown",
   "id": "fff8ced9",
   "metadata": {},
   "source": [
    "The \"enh_impression_position\" and \"search_sortby\" functions count values from the website, from which the values were scraped. That´s why they can be deleted."
   ]
  },
  {
   "cell_type": "code",
   "execution_count": 64,
   "id": "e8c4f3a2",
   "metadata": {},
   "outputs": [],
   "source": [
    "df6 = df5.drop(['\"enh_impression_position\"', '\"search_sortby\"'], axis=1)"
   ]
  },
  {
   "cell_type": "markdown",
   "id": "b2e6b7cf",
   "metadata": {},
   "source": [
    "In the following table are the statistic informations about numeric variables. To get a feeling about the data distribution you read the table and try to intepret it. I prefer visualization!"
   ]
  },
  {
   "cell_type": "code",
   "execution_count": 81,
   "id": "6fa1bb54",
   "metadata": {
    "scrolled": true
   },
   "outputs": [
    {
     "data": {
      "text/html": [
       "<div>\n",
       "<style scoped>\n",
       "    .dataframe tbody tr th:only-of-type {\n",
       "        vertical-align: middle;\n",
       "    }\n",
       "\n",
       "    .dataframe tbody tr th {\n",
       "        vertical-align: top;\n",
       "    }\n",
       "\n",
       "    .dataframe thead th {\n",
       "        text-align: right;\n",
       "    }\n",
       "</style>\n",
       "<table border=\"1\" class=\"dataframe\">\n",
       "  <thead>\n",
       "    <tr style=\"text-align: right;\">\n",
       "      <th></th>\n",
       "      <th>\"object_area\"</th>\n",
       "      <th>\"object_price\"</th>\n",
       "      <th>\"object_rooms\"</th>\n",
       "    </tr>\n",
       "  </thead>\n",
       "  <tbody>\n",
       "    <tr>\n",
       "      <th>count</th>\n",
       "      <td>595.000000</td>\n",
       "      <td>595.000000</td>\n",
       "      <td>595.000000</td>\n",
       "    </tr>\n",
       "    <tr>\n",
       "      <th>mean</th>\n",
       "      <td>80.993983</td>\n",
       "      <td>1938.295798</td>\n",
       "      <td>2.487395</td>\n",
       "    </tr>\n",
       "    <tr>\n",
       "      <th>std</th>\n",
       "      <td>51.139758</td>\n",
       "      <td>1185.486649</td>\n",
       "      <td>1.185388</td>\n",
       "    </tr>\n",
       "    <tr>\n",
       "      <th>min</th>\n",
       "      <td>0.000000</td>\n",
       "      <td>0.000000</td>\n",
       "      <td>0.000000</td>\n",
       "    </tr>\n",
       "    <tr>\n",
       "      <th>25%</th>\n",
       "      <td>53.000000</td>\n",
       "      <td>1280.000000</td>\n",
       "      <td>2.000000</td>\n",
       "    </tr>\n",
       "    <tr>\n",
       "      <th>50%</th>\n",
       "      <td>74.000000</td>\n",
       "      <td>1680.000000</td>\n",
       "      <td>2.000000</td>\n",
       "    </tr>\n",
       "    <tr>\n",
       "      <th>75%</th>\n",
       "      <td>94.480000</td>\n",
       "      <td>2160.000000</td>\n",
       "      <td>3.000000</td>\n",
       "    </tr>\n",
       "    <tr>\n",
       "      <th>max</th>\n",
       "      <td>565.970000</td>\n",
       "      <td>12300.000000</td>\n",
       "      <td>9.000000</td>\n",
       "    </tr>\n",
       "  </tbody>\n",
       "</table>\n",
       "</div>"
      ],
      "text/plain": [
       "       \"object_area\"  \"object_price\"  \"object_rooms\"\n",
       "count     595.000000      595.000000      595.000000\n",
       "mean       80.993983     1938.295798        2.487395\n",
       "std        51.139758     1185.486649        1.185388\n",
       "min         0.000000        0.000000        0.000000\n",
       "25%        53.000000     1280.000000        2.000000\n",
       "50%        74.000000     1680.000000        2.000000\n",
       "75%        94.480000     2160.000000        3.000000\n",
       "max       565.970000    12300.000000        9.000000"
      ]
     },
     "execution_count": 81,
     "metadata": {},
     "output_type": "execute_result"
    }
   ],
   "source": [
    "df6.describe().iloc[:, :3]"
   ]
  },
  {
   "cell_type": "markdown",
   "id": "e4aa852a",
   "metadata": {},
   "source": [
    "The distribution of the feature \"object_area\" is right skewed. That means that there are many \"big\" values which are far away from the mean. This can have an impact on my machine learning model. If the choose machine learning model based on linearity then the data needs to be transfrom.\n",
    "In the Box-Plot I can see that there are some outliers. "
   ]
  },
  {
   "cell_type": "code",
   "execution_count": 92,
   "id": "5e11ae75",
   "metadata": {},
   "outputs": [
    {
     "data": {
      "image/png": "[encoded data removed]",
      "text/plain": [
       "<Figure size 640x480 with 1 Axes>"
      ]
     },
     "metadata": {},
     "output_type": "display_data"
    },
    {
     "data": {
      "image/png": "[encoded data removed]",
      "text/plain": [
       "<Figure size 640x480 with 1 Axes>"
      ]
     },
     "metadata": {},
     "output_type": "display_data"
    }
   ],
   "source": [
    "sns.histplot(x='\"object_area\"', data=df6)\n",
    "plt.show()\n",
    "plt.close()\n",
    "sns.boxplot(x='\"object_area\"', data=df6)\n",
    "plt.show()"
   ]
  },
  {
   "cell_type": "markdown",
   "id": "5f77df7e",
   "metadata": {},
   "source": [
    "There is a similar picture for the feature \"object_price\". The distribution is so similar that the correlation must be very high. More on that later."
   ]
  },
  {
   "cell_type": "code",
   "execution_count": 93,
   "id": "198e4614",
   "metadata": {},
   "outputs": [
    {
     "data": {
      "image/png": "[encoded data removed]",
      "text/plain": [
       "<Figure size 640x480 with 1 Axes>"
      ]
     },
     "metadata": {},
     "output_type": "display_data"
    },
    {
     "data": {
      "image/png": "[encoded data removed]",
      "text/plain": [
       "<Figure size 640x480 with 1 Axes>"
      ]
     },
     "metadata": {},
     "output_type": "display_data"
    }
   ],
   "source": [
    "sns.histplot(x='\"object_price\"', data=df6)\n",
    "plt.show()\n",
    "plt.close()\n",
    "sns.boxplot(x='\"object_price\"', data=df6)\n",
    "plt.show()"
   ]
  },
  {
   "cell_type": "markdown",
   "id": "68f47cc9",
   "metadata": {},
   "source": [
    "The \"object_rooms\" has also the same similarity to the other features."
   ]
  },
  {
   "cell_type": "code",
   "execution_count": 94,
   "id": "99b6740f",
   "metadata": {},
   "outputs": [
    {
     "data": {
      "image/png": "[encoded data removed]",
      "text/plain": [
       "<Figure size 640x480 with 1 Axes>"
      ]
     },
     "metadata": {},
     "output_type": "display_data"
    },
    {
     "data": {
      "image/png": "[encoded data removed]",
      "text/plain": [
       "<Figure size 640x480 with 1 Axes>"
      ]
     },
     "metadata": {},
     "output_type": "display_data"
    }
   ],
   "source": [
    "sns.histplot(x='\"object_rooms\"', data=df6)\n",
    "plt.show()\n",
    "plt.close()\n",
    "sns.boxplot(x='\"object_rooms\"', data=df6)\n",
    "plt.show()"
   ]
  },
  {
   "cell_type": "code",
   "execution_count": null,
   "id": "fbbd59b6",
   "metadata": {},
   "outputs": [],
   "source": []
  }
 ],
 "metadata": {
  "kernelspec": {
   "display_name": "Python 3 (ipykernel)",
   "language": "python",
   "name": "python3"
  },
  "language_info": {
   "codemirror_mode": {
    "name": "ipython",
    "version": 3
   },
   "file_extension": ".py",
   "mimetype": "text/x-python",
   "name": "python",
   "nbconvert_exporter": "python",
   "pygments_lexer": "ipython3",
   "version": "3.9.13"
  }
 },
 "nbformat": 4,
 "nbformat_minor": 5
}
