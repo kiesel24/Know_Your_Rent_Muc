{
 "cells": [
  {
   "cell_type": "markdown",
   "id": "3fe04b39",
   "metadata": {},
   "source": [
    "# Project \"Know_Your_Rent_Muc\": Part Two\n",
    "# EDA (Exploratory Data Analysis)"
   ]
  },
  {
   "cell_type": "markdown",
   "id": "4bf08fc5",
   "metadata": {},
   "source": [
    "In this part I explore the data to get more inside information about them. This process is importent to understand the data. With out a deep data understanding it´s going to be difficult to create a good machine learning model."
   ]
  },
  {
   "cell_type": "code",
   "execution_count": 253,
   "id": "303cd791",
   "metadata": {},
   "outputs": [],
   "source": [
    "import pandas as pd\n",
    "import numpy as np\n",
    "import matplotlib.pyplot as plt\n",
    "import seaborn as sns"
   ]
  },
  {
   "cell_type": "markdown",
   "id": "ce64a77e",
   "metadata": {},
   "source": [
    "First of all I look at the first 5 rows of the data. I look at them and analyse which data types are there."
   ]
  },
  {
   "cell_type": "code",
   "execution_count": 254,
   "id": "1d57ed98",
   "metadata": {},
   "outputs": [],
   "source": [
    "df = pd.read_csv(\"221211_know_your_rent_muc_data.csv\")"
   ]
  },
  {
   "cell_type": "code",
   "execution_count": 255,
   "id": "89b9a101",
   "metadata": {},
   "outputs": [
    {
     "data": {
      "text/html": [
       "<div>\n",
       "<style scoped>\n",
       "    .dataframe tbody tr th:only-of-type {\n",
       "        vertical-align: middle;\n",
       "    }\n",
       "\n",
       "    .dataframe tbody tr th {\n",
       "        vertical-align: top;\n",
       "    }\n",
       "\n",
       "    .dataframe thead th {\n",
       "        text-align: right;\n",
       "    }\n",
       "</style>\n",
       "<table border=\"1\" class=\"dataframe\">\n",
       "  <thead>\n",
       "    <tr style=\"text-align: right;\">\n",
       "      <th></th>\n",
       "      <th>Unnamed: 0</th>\n",
       "      <th>\"enh_impression_list\"</th>\n",
       "      <th>\"enh_impression_name\"</th>\n",
       "      <th>\"enh_impression_position\"</th>\n",
       "      <th>\"search_sortby\"</th>\n",
       "      <th>\"object_area\"</th>\n",
       "      <th>\"object_city\"</th>\n",
       "      <th>\"object_currency\"</th>\n",
       "      <th>\"object_display_state\"</th>\n",
       "      <th>\"object_district\"</th>\n",
       "      <th>...</th>\n",
       "      <th>\"object_is_special\"</th>\n",
       "      <th>\"object_label\"</th>\n",
       "      <th>\"object_marketingtype\"</th>\n",
       "      <th>\"object_objekt_nutzungsart\"</th>\n",
       "      <th>\"object_objekt_zustand\"</th>\n",
       "      <th>\"object_objektart\"</th>\n",
       "      <th>\"object_objektart_sub\"</th>\n",
       "      <th>\"object_price\"</th>\n",
       "      <th>\"object_rooms\"</th>\n",
       "      <th>\"object_listingtype\"</th>\n",
       "    </tr>\n",
       "  </thead>\n",
       "  <tbody>\n",
       "    <tr>\n",
       "      <th>0</th>\n",
       "      <td>0</td>\n",
       "      <td>Liste</td>\n",
       "      <td>kontakt</td>\n",
       "      <td>1.0</td>\n",
       "      <td>2594468.0</td>\n",
       "      <td>37.00</td>\n",
       "      <td>München</td>\n",
       "      <td>EUR</td>\n",
       "      <td>sel_item</td>\n",
       "      <td>Thalk.Obersendl.-Forsten-Fürstenr.-Solln</td>\n",
       "      <td>...</td>\n",
       "      <td>NaN</td>\n",
       "      <td>new</td>\n",
       "      <td>Miete</td>\n",
       "      <td>WOHNEN</td>\n",
       "      <td>sonstiges</td>\n",
       "      <td>NaN</td>\n",
       "      <td>APARTMENT</td>\n",
       "      <td>1120.00</td>\n",
       "      <td>1.0</td>\n",
       "      <td>standard</td>\n",
       "    </tr>\n",
       "    <tr>\n",
       "      <th>1</th>\n",
       "      <td>1</td>\n",
       "      <td>Liste</td>\n",
       "      <td>kontakt</td>\n",
       "      <td>2.0</td>\n",
       "      <td>177005.0</td>\n",
       "      <td>53.06</td>\n",
       "      <td>München</td>\n",
       "      <td>EUR</td>\n",
       "      <td>sel_item</td>\n",
       "      <td>Thalk.Obersendl.-Forsten-Fürstenr.-Solln</td>\n",
       "      <td>...</td>\n",
       "      <td>top-immo</td>\n",
       "      <td>old</td>\n",
       "      <td>Miete</td>\n",
       "      <td>WOHNEN</td>\n",
       "      <td>sonstiges</td>\n",
       "      <td>NaN</td>\n",
       "      <td>ETAGE</td>\n",
       "      <td>1339.77</td>\n",
       "      <td>2.0</td>\n",
       "      <td>premium</td>\n",
       "    </tr>\n",
       "    <tr>\n",
       "      <th>2</th>\n",
       "      <td>2</td>\n",
       "      <td>Liste</td>\n",
       "      <td>kontakt</td>\n",
       "      <td>3.0</td>\n",
       "      <td>177005.0</td>\n",
       "      <td>64.16</td>\n",
       "      <td>München</td>\n",
       "      <td>EUR</td>\n",
       "      <td>sel_item</td>\n",
       "      <td>Thalk.Obersendl.-Forsten-Fürstenr.-Solln</td>\n",
       "      <td>...</td>\n",
       "      <td>top-immo</td>\n",
       "      <td>old</td>\n",
       "      <td>Miete</td>\n",
       "      <td>WOHNEN</td>\n",
       "      <td>sonstiges</td>\n",
       "      <td>NaN</td>\n",
       "      <td>ETAGE</td>\n",
       "      <td>1509.68</td>\n",
       "      <td>2.0</td>\n",
       "      <td>premium</td>\n",
       "    </tr>\n",
       "    <tr>\n",
       "      <th>3</th>\n",
       "      <td>3</td>\n",
       "      <td>Liste</td>\n",
       "      <td>kontakt</td>\n",
       "      <td>4.0</td>\n",
       "      <td>177005.0</td>\n",
       "      <td>49.46</td>\n",
       "      <td>München</td>\n",
       "      <td>EUR</td>\n",
       "      <td>sel_item</td>\n",
       "      <td>Thalk.Obersendl.-Forsten-Fürstenr.-Solln</td>\n",
       "      <td>...</td>\n",
       "      <td>top-immo</td>\n",
       "      <td>old</td>\n",
       "      <td>Miete</td>\n",
       "      <td>WOHNEN</td>\n",
       "      <td>sonstiges</td>\n",
       "      <td>NaN</td>\n",
       "      <td>ERDGESCHOSS</td>\n",
       "      <td>1600.03</td>\n",
       "      <td>2.0</td>\n",
       "      <td>premium</td>\n",
       "    </tr>\n",
       "    <tr>\n",
       "      <th>4</th>\n",
       "      <td>4</td>\n",
       "      <td>Liste</td>\n",
       "      <td>kontakt</td>\n",
       "      <td>5.0</td>\n",
       "      <td>177005.0</td>\n",
       "      <td>96.23</td>\n",
       "      <td>München</td>\n",
       "      <td>EUR</td>\n",
       "      <td>sel_item</td>\n",
       "      <td>Thalk.Obersendl.-Forsten-Fürstenr.-Solln</td>\n",
       "      <td>...</td>\n",
       "      <td>top-immo</td>\n",
       "      <td>old</td>\n",
       "      <td>Miete</td>\n",
       "      <td>WOHNEN</td>\n",
       "      <td>sonstiges</td>\n",
       "      <td>NaN</td>\n",
       "      <td>ETAGE</td>\n",
       "      <td>2085.30</td>\n",
       "      <td>4.0</td>\n",
       "      <td>premium</td>\n",
       "    </tr>\n",
       "  </tbody>\n",
       "</table>\n",
       "<p>5 rows × 23 columns</p>\n",
       "</div>"
      ],
      "text/plain": [
       "   Unnamed: 0 \"enh_impression_list\" \"enh_impression_name\"  \\\n",
       "0           0                 Liste               kontakt   \n",
       "1           1                 Liste               kontakt   \n",
       "2           2                 Liste               kontakt   \n",
       "3           3                 Liste               kontakt   \n",
       "4           4                 Liste               kontakt   \n",
       "\n",
       "   \"enh_impression_position\"  \"search_sortby\"  \"object_area\" \"object_city\"  \\\n",
       "0                        1.0        2594468.0          37.00       München   \n",
       "1                        2.0         177005.0          53.06       München   \n",
       "2                        3.0         177005.0          64.16       München   \n",
       "3                        4.0         177005.0          49.46       München   \n",
       "4                        5.0         177005.0          96.23       München   \n",
       "\n",
       "  \"object_currency\" \"object_display_state\"  \\\n",
       "0               EUR               sel_item   \n",
       "1               EUR               sel_item   \n",
       "2               EUR               sel_item   \n",
       "3               EUR               sel_item   \n",
       "4               EUR               sel_item   \n",
       "\n",
       "                          \"object_district\"  ... \"object_is_special\"  \\\n",
       "0  Thalk.Obersendl.-Forsten-Fürstenr.-Solln  ...                 NaN   \n",
       "1  Thalk.Obersendl.-Forsten-Fürstenr.-Solln  ...            top-immo   \n",
       "2  Thalk.Obersendl.-Forsten-Fürstenr.-Solln  ...            top-immo   \n",
       "3  Thalk.Obersendl.-Forsten-Fürstenr.-Solln  ...            top-immo   \n",
       "4  Thalk.Obersendl.-Forsten-Fürstenr.-Solln  ...            top-immo   \n",
       "\n",
       "  \"object_label\" \"object_marketingtype\" \"object_objekt_nutzungsart\"  \\\n",
       "0            new                  Miete                      WOHNEN   \n",
       "1            old                  Miete                      WOHNEN   \n",
       "2            old                  Miete                      WOHNEN   \n",
       "3            old                  Miete                      WOHNEN   \n",
       "4            old                  Miete                      WOHNEN   \n",
       "\n",
       "  \"object_objekt_zustand\" \"object_objektart\" \"object_objektart_sub\"  \\\n",
       "0               sonstiges                NaN              APARTMENT   \n",
       "1               sonstiges                NaN                  ETAGE   \n",
       "2               sonstiges                NaN                  ETAGE   \n",
       "3               sonstiges                NaN            ERDGESCHOSS   \n",
       "4               sonstiges                NaN                  ETAGE   \n",
       "\n",
       "  \"object_price\"  \"object_rooms\" \"object_listingtype\"  \n",
       "0        1120.00             1.0             standard  \n",
       "1        1339.77             2.0              premium  \n",
       "2        1509.68             2.0              premium  \n",
       "3        1600.03             2.0              premium  \n",
       "4        2085.30             4.0              premium  \n",
       "\n",
       "[5 rows x 23 columns]"
      ]
     },
     "execution_count": 255,
     "metadata": {},
     "output_type": "execute_result"
    }
   ],
   "source": [
    "df.head()"
   ]
  },
  {
   "cell_type": "markdown",
   "id": "a4a2e3f9",
   "metadata": {},
   "source": [
    "Before I start with the analyzation I need to remove all the \"\" of the column names, because this could make problems with the syntax of python."
   ]
  },
  {
   "cell_type": "code",
   "execution_count": 256,
   "id": "ed189419",
   "metadata": {},
   "outputs": [],
   "source": [
    "def rename_columns(df):\n",
    "    for i in df:\n",
    "        for j in i:\n",
    "            if j == '\"':\n",
    "                df.rename(columns={i: i[1:len(i)-1]}, inplace=True)\n",
    "    return df"
   ]
  },
  {
   "cell_type": "code",
   "execution_count": 257,
   "id": "8eb534ba",
   "metadata": {},
   "outputs": [],
   "source": [
    "df1 = rename_columns(df)"
   ]
  },
  {
   "cell_type": "markdown",
   "id": "be88d32d",
   "metadata": {},
   "source": [
    "Here are the datatypes of the columns. The datatypes are automatically generated through pandas. Pandas does this most of the time right but were can be mistakes. Examples are that a discrete variable is declared as a continuouse variable. "
   ]
  },
  {
   "cell_type": "code",
   "execution_count": 258,
   "id": "92299512",
   "metadata": {},
   "outputs": [
    {
     "data": {
      "text/plain": [
       "Unnamed: 0                     int64\n",
       "enh_impression_list           object\n",
       "enh_impression_name           object\n",
       "enh_impression_position      float64\n",
       "search_sortby                float64\n",
       "object_area                  float64\n",
       "object_city                   object\n",
       "object_currency               object\n",
       "object_display_state          object\n",
       "object_district               object\n",
       "object_features               object\n",
       "object_federalstate           object\n",
       "object_gok                    object\n",
       "object_is_special             object\n",
       "object_label                  object\n",
       "object_marketingtype          object\n",
       "object_objekt_nutzungsart     object\n",
       "object_objekt_zustand         object\n",
       "object_objektart             float64\n",
       "object_objektart_sub          object\n",
       "object_price                 float64\n",
       "object_rooms                 float64\n",
       "object_listingtype            object\n",
       "dtype: object"
      ]
     },
     "execution_count": 258,
     "metadata": {},
     "output_type": "execute_result"
    }
   ],
   "source": [
    "df1.dtypes"
   ]
  },
  {
   "cell_type": "markdown",
   "id": "b7ff33f0",
   "metadata": {},
   "source": [
    "Here is the summary of the obsarvation:\n",
    "- The unnamed column are the id´s. The id´s are ordinal variables and needs to be transformed to a object. \n",
    "- The same is applicable to \"enh_impression_position\".\n",
    "- The variable \"search_sortby\" is definitely a discret variable, because the variable doesn´t measure something. It need to be transformed to a integer. \n",
    "- The variable \"object_area\" measurement the room size in square feet. The float is here right declared.\n",
    "- The variable \"object_objektart\" seems to have no entries. It can be deleted.\n",
    "- The variable \"object_price\" is a discrete varibale and need to be transformed to a integer. \n",
    "- The same is applicable to \"object_rooms\".\n",
    "- \"object_label\" is binar."
   ]
  },
  {
   "cell_type": "code",
   "execution_count": 259,
   "id": "fb1a962e",
   "metadata": {},
   "outputs": [],
   "source": [
    "df1.rename(columns = {'Unnamed: 0':'id'}, inplace = True)"
   ]
  },
  {
   "cell_type": "code",
   "execution_count": 260,
   "id": "829fcf9e",
   "metadata": {},
   "outputs": [],
   "source": [
    "df1['id'] = df['id'].astype(\"object\")\n",
    "df1[\"enh_impression_position\"] = df[\"enh_impression_position\"].astype(\"string\")\n",
    "df1[\"search_sortby\"] = df[\"search_sortby\"].astype(\"int\")\n",
    "df1[\"object_price\"] = df[\"object_price\"].astype(\"int\")\n",
    "df1[\"object_rooms\"] = df[\"object_rooms\"].astype(\"int\")\n",
    "df2 = df1.drop(\"object_objektart\", axis=1)"
   ]
  },
  {
   "cell_type": "code",
   "execution_count": 261,
   "id": "23608829",
   "metadata": {
    "scrolled": false
   },
   "outputs": [
    {
     "data": {
      "text/plain": [
       "id                            object\n",
       "enh_impression_list           object\n",
       "enh_impression_name           object\n",
       "enh_impression_position       string\n",
       "search_sortby                  int64\n",
       "object_area                  float64\n",
       "object_city                   object\n",
       "object_currency               object\n",
       "object_display_state          object\n",
       "object_district               object\n",
       "object_features               object\n",
       "object_federalstate           object\n",
       "object_gok                    object\n",
       "object_is_special             object\n",
       "object_label                  object\n",
       "object_marketingtype          object\n",
       "object_objekt_nutzungsart     object\n",
       "object_objekt_zustand         object\n",
       "object_objektart_sub          object\n",
       "object_price                   int64\n",
       "object_rooms                   int64\n",
       "object_listingtype            object\n",
       "dtype: object"
      ]
     },
     "execution_count": 261,
     "metadata": {},
     "output_type": "execute_result"
    }
   ],
   "source": [
    "df2.dtypes"
   ]
  },
  {
   "cell_type": "markdown",
   "id": "05e1ee20",
   "metadata": {},
   "source": [
    "Now, it´s importent to know which unique values are in the object columns. This helps to understand which columns have a lot of information in it and which not. It also tells me if there are similarity in different columns. The column \"object_gok\" seems like that is just a intern code of the object from the website. It can be also deleted. "
   ]
  },
  {
   "cell_type": "code",
   "execution_count": 262,
   "id": "00bd59b7",
   "metadata": {},
   "outputs": [],
   "source": [
    "def unique_values(df):\n",
    "    for i in df.columns:\n",
    "        if df[i].dtypes == \"object\" and i!=\"id\" and i!=\"object_gok\":\n",
    "            print(i)\n",
    "            print(df[i].unique())\n",
    "            print(\"------------------\")"
   ]
  },
  {
   "cell_type": "code",
   "execution_count": 263,
   "id": "7e3a6316",
   "metadata": {
    "scrolled": true
   },
   "outputs": [
    {
     "name": "stdout",
     "output_type": "stream",
     "text": [
      "enh_impression_list\n",
      "['Liste' 'Liste_Objekte_passend']\n",
      "------------------\n",
      "enh_impression_name\n",
      "['kontakt']\n",
      "------------------\n",
      "object_city\n",
      "['München' 'Haar' 'Neubiberg' 'Aschheim' 'Ottobrunn' 'Vaterstetten'\n",
      " 'Kirchheim' 'Unterhaching' 'Unterföhring' 'Hergolding' 'Hohenbrunn'\n",
      " 'Taufkirchen' 'Zorneding' 'Poing' 'Höhenkirchen-Siegertsbrunn'\n",
      " 'Oberhaching' 'Garching' 'Brunnthal' 'Kirchseeon' 'Markt Schwaben'\n",
      " 'Unterschleißheim' 'Planegg' 'Gräfelfing' 'Sauerlach' 'Karlsfeld' 'Glonn'\n",
      " 'Eching' 'Krailling' 'Neufahrn' 'Gauting' 'Hallbergmoos' 'Wörth'\n",
      " 'Ebersberg' 'Grafing' 'Germering' 'Dachau' 'Forstern' 'Haimhausen'\n",
      " 'Oberding' 'Gröbenzell' 'Erding' 'Dietramszell' 'Puchheim' 'Tuntenhausen'\n",
      " 'Eichenau' 'Holzkirchen' 'Olching' 'Aßling' 'Starnberg' 'Bergkirchen'\n",
      " 'Gilching' 'Isen' 'Lengdorf' 'Freising' 'Wolfratshausen' 'Bockhorn'\n",
      " 'Geretsried' 'Fürstenfeldbruck' 'Vierkirchen' 'Maisach' 'Marzling' 'Haag'\n",
      " 'Warngau' 'Berglern' 'Feldafing' 'Rechtmehring' 'Münsing' 'Weichs'\n",
      " 'Waakirchen' 'Rott' 'Irschenberg' 'Wörthsee' 'Bad Aibling' 'Zolling'\n",
      " 'Tutzing' 'Miesbach' 'Erdweg' 'Dorfen' 'Großkarolinenfeld' 'Wartenberg'\n",
      " 'Langenpreising' 'Herrsching' 'Mammendorf' 'Eiselfing' 'Kottgeisering'\n",
      " 'Bad Tölz' 'Wasserburg' 'Kolbermoor' 'Inning' 'Odelzhausen' 'Moosburg'\n",
      " 'Wackersberg' 'Erlangen' 'Vogtareuth' 'Pähl' 'Schweitenkirchen'\n",
      " 'Fischbachau' 'Obertaufkirchen' 'Buch' 'Rosenheim' 'Schondorf'\n",
      " 'Schliersee' 'Bad Heilbrunn' 'Bad Wiessee' 'Moorenweis' 'Scheyern'\n",
      " 'Stephanskirchen' 'Tegernsee' 'Utting' 'Schwindegg' 'Babensham' 'Mauern'\n",
      " 'Pfaffenhofen' 'Penzberg' 'Ried' 'Gerolsbach' 'Schiltberg'\n",
      " 'Rottach-Egern' 'Weißach']\n",
      "------------------\n",
      "object_currency\n",
      "['EUR']\n",
      "------------------\n",
      "object_display_state\n",
      "['sel_item' 'rec_item']\n",
      "------------------\n",
      "object_district\n",
      "['Thalk.Obersendl.-Forsten-Fürstenr.-Solln' 'Ramersdorf-Perlach'\n",
      " 'Bogenhausen' 'Neuhausen-Nymphenburg' 'Schwabing-West'\n",
      " 'Pasing-Obermenzing' 'Laim' 'Schwabing-Freimann'\n",
      " 'Aubing-Lochhausen-Langwied' 'Sendling-Westpark' 'Milbertshofen-Am Hart'\n",
      " 'Moosach' 'Maxvorstadt' 'Obergiesing' 'Allach-Untermenzing' nan\n",
      " 'Altstadt-Lehel' 'Sendling' 'Au-Haidhausen' 'Untergiesing-Harlaching'\n",
      " 'Hadern' 'Berg am Laim' 'Trudering-Riem' 'Schwanthalerhöhe'\n",
      " 'Ludwigsvorstadt-Isarvorstadt' 'Feldmoching-Hasenbergl' 'Gronsdorf'\n",
      " 'Haar' 'Neubiberg' 'Unterbiberg' 'Aschheim' 'Ottobrunn' 'Heimstetten'\n",
      " 'Kirchheim' 'Unterföhring' 'Bergham' 'Westerham' 'Am Wald' 'Taufkirchen'\n",
      " 'Zorneding' 'Poing' 'Höhenkirchen' 'Garching' 'Hofolding' 'Kirchseeon'\n",
      " 'Lohhof' 'Martinsried' 'Unterschleißheim' 'Planegg' 'Gräfelfing'\n",
      " 'Altkirchen' 'Glonn' 'Eching' 'Neufahrn' 'Goldach' 'Wörth' 'Mintraching'\n",
      " 'Ebersberg' 'Grafing' 'Neugermering' 'Dachau' 'Forstern' 'Germering'\n",
      " 'Gauting' 'Amperpettenbach' 'Notzing' 'Altenerding' 'Klettham'\n",
      " 'Ascholding' 'Puchheim' 'Erding' 'Biberg' 'Unterbrunn' 'Holzkirchen'\n",
      " 'Olching' 'Aßling' 'Starnberg' 'Neu-Esting' 'Oberbrunn' 'Söcking'\n",
      " 'Unterbachern' 'Steinkirchen' 'Neugilching' 'Langengeisling' 'Isen'\n",
      " 'Gilching' 'Lengdorf' 'Freising' 'Waldram' 'Lerchenfeld' 'Altenhausen'\n",
      " 'Unterstrogn' 'Gartenberg' 'Fürstenfeldbruck' 'Ramelsbach' 'Geretsried'\n",
      " 'Maisach' 'Marzling' 'Neulindach' 'Oberwarngau' 'Berglern' 'Feldafing'\n",
      " 'Hart' 'Freimehring' 'Mitterlern' 'Wimpasing' 'Weichs' 'Schaftlach'\n",
      " 'Rott' 'Irschenberg' 'Walchstadt' 'Bad Aibling' 'Abel' 'Palzing' 'Haag'\n",
      " 'Tutzing' 'Miesbach' 'Traubing' 'Pfaffing' 'Altstetten' 'Harthausen'\n",
      " 'Dorfen' 'Großkarolinenfeld' 'Wartenberg' 'Langenpreising' 'Hauserdörfl'\n",
      " 'Herrsching' 'Mammendorf' 'Kerschdorf' 'Untermarchenbach' 'Breitbrunn'\n",
      " 'Burgerfeld' ' Vils' 'Kolbermoor' 'Altstadt' 'Buch' 'Bad Tölz'\n",
      " 'Dietenhausen' 'Moosburg' 'Oberfischbach' 'Odelzhausen' 'Büchenbach'\n",
      " 'Vogtareuth' 'Kerschlach' 'Sixtnitgern' 'Fischen' 'Raffenstetten'\n",
      " 'Schweitenkirchen' 'Wörnsmühl' 'Oberornau' 'Gastorf' 'West' 'Schliersee'\n",
      " 'Innenstadt' 'Bad Heilbrunn' 'Bad Wiessee' 'Bendlreuth' 'Moorenweis'\n",
      " 'Happing' 'Pang' 'Aising' 'Scheyern' 'Gehering' 'Holzhausen' 'Schwindegg'\n",
      " 'Kainöd' 'Mauern' 'Niederscheyern' 'Penzberg' 'Baindlkirch' 'Högering'\n",
      " 'Pfaffenhofen a d Ilm' 'Tegernbach' 'Haunwang' 'Gerolsbach' 'Aichmühle'\n",
      " 'Wundersdorf' 'Weißach' 'Egern' 'Sulzbach' 'Staudach']\n",
      "------------------\n",
      "object_features\n",
      "['Balkon|EBK' 'Balkon' nan 'EBK' 'Garten|EBK' 'Garten|Balkon|EBK'\n",
      " 'Garten|Balkon' 'Garten']\n",
      "------------------\n",
      "object_federalstate\n",
      "['Bayern']\n",
      "------------------\n",
      "object_is_special\n",
      "[nan 'top-immo' 'top-immo|eyecatcher' 'eyecatcher']\n",
      "------------------\n",
      "object_label\n",
      "['new' 'old']\n",
      "------------------\n",
      "object_marketingtype\n",
      "['Miete']\n",
      "------------------\n",
      "object_objekt_nutzungsart\n",
      "['WOHNEN']\n",
      "------------------\n",
      "object_objekt_zustand\n",
      "['sonstiges']\n",
      "------------------\n",
      "object_objektart_sub\n",
      "['APARTMENT' 'ETAGE' 'ERDGESCHOSS' 'Wohnung' 'MAISONETTE' 'DACHGESCHOSS'\n",
      " 'PENTHOUSE' 'LOFT-STUDIO-ATELIER' 'SOUTERRAIN' 'Zimmer']\n",
      "------------------\n",
      "object_listingtype\n",
      "['standard' 'premium']\n",
      "------------------\n"
     ]
    }
   ],
   "source": [
    "unique_values(df2)"
   ]
  },
  {
   "cell_type": "markdown",
   "id": "3809bcf7",
   "metadata": {},
   "source": [
    "Here is the summary of the obsarvation:\n",
    "- \"enh_impression_list\" and \"enh_impression_name\", \"object_currency\", \"object_display_state\", \"object_federalstate\", \"object_label\", \"object_marketingtype\", \"object_objekt_nutzungsart\", \"object_objekt_zustand\" and \"object_listingtype\" one, respectively two kind of entries. And the entries have no information for the prediction of a rent. They will be deleted.\n",
    "- The column \"object_is_special\" have more kind of values but with informations for the goal prediction.\n",
    "- The column \"object_district\" and \"object_city\" seems to be similar. That need to be looked in detail."
   ]
  },
  {
   "cell_type": "code",
   "execution_count": 264,
   "id": "a68a78fb",
   "metadata": {},
   "outputs": [],
   "source": [
    "df3 = df2.drop([\"object_gok\", \"enh_impression_list\", \"enh_impression_name\", \"object_currency\", \"object_display_state\", \n",
    "              \"object_federalstate\", \"object_label\", \"object_marketingtype\", \"object_objekt_nutzungsart\",\n",
    "             \"object_objekt_zustand\", \"object_listingtype\", \"object_is_special\"], axis=1)"
   ]
  },
  {
   "cell_type": "code",
   "execution_count": 265,
   "id": "931478a2",
   "metadata": {
    "scrolled": false
   },
   "outputs": [
    {
     "data": {
      "text/html": [
       "<div>\n",
       "<style scoped>\n",
       "    .dataframe tbody tr th:only-of-type {\n",
       "        vertical-align: middle;\n",
       "    }\n",
       "\n",
       "    .dataframe tbody tr th {\n",
       "        vertical-align: top;\n",
       "    }\n",
       "\n",
       "    .dataframe thead th {\n",
       "        text-align: right;\n",
       "    }\n",
       "</style>\n",
       "<table border=\"1\" class=\"dataframe\">\n",
       "  <thead>\n",
       "    <tr style=\"text-align: right;\">\n",
       "      <th></th>\n",
       "      <th>id</th>\n",
       "      <th>enh_impression_position</th>\n",
       "      <th>search_sortby</th>\n",
       "      <th>object_area</th>\n",
       "      <th>object_city</th>\n",
       "      <th>object_district</th>\n",
       "      <th>object_features</th>\n",
       "      <th>object_objektart_sub</th>\n",
       "      <th>object_price</th>\n",
       "      <th>object_rooms</th>\n",
       "    </tr>\n",
       "  </thead>\n",
       "  <tbody>\n",
       "    <tr>\n",
       "      <th>0</th>\n",
       "      <td>0</td>\n",
       "      <td>1.0</td>\n",
       "      <td>2594468</td>\n",
       "      <td>37.00</td>\n",
       "      <td>München</td>\n",
       "      <td>Thalk.Obersendl.-Forsten-Fürstenr.-Solln</td>\n",
       "      <td>Balkon|EBK</td>\n",
       "      <td>APARTMENT</td>\n",
       "      <td>1120</td>\n",
       "      <td>1</td>\n",
       "    </tr>\n",
       "    <tr>\n",
       "      <th>1</th>\n",
       "      <td>1</td>\n",
       "      <td>2.0</td>\n",
       "      <td>177005</td>\n",
       "      <td>53.06</td>\n",
       "      <td>München</td>\n",
       "      <td>Thalk.Obersendl.-Forsten-Fürstenr.-Solln</td>\n",
       "      <td>Balkon</td>\n",
       "      <td>ETAGE</td>\n",
       "      <td>1339</td>\n",
       "      <td>2</td>\n",
       "    </tr>\n",
       "    <tr>\n",
       "      <th>2</th>\n",
       "      <td>2</td>\n",
       "      <td>3.0</td>\n",
       "      <td>177005</td>\n",
       "      <td>64.16</td>\n",
       "      <td>München</td>\n",
       "      <td>Thalk.Obersendl.-Forsten-Fürstenr.-Solln</td>\n",
       "      <td>NaN</td>\n",
       "      <td>ETAGE</td>\n",
       "      <td>1509</td>\n",
       "      <td>2</td>\n",
       "    </tr>\n",
       "    <tr>\n",
       "      <th>3</th>\n",
       "      <td>3</td>\n",
       "      <td>4.0</td>\n",
       "      <td>177005</td>\n",
       "      <td>49.46</td>\n",
       "      <td>München</td>\n",
       "      <td>Thalk.Obersendl.-Forsten-Fürstenr.-Solln</td>\n",
       "      <td>NaN</td>\n",
       "      <td>ERDGESCHOSS</td>\n",
       "      <td>1600</td>\n",
       "      <td>2</td>\n",
       "    </tr>\n",
       "    <tr>\n",
       "      <th>4</th>\n",
       "      <td>4</td>\n",
       "      <td>5.0</td>\n",
       "      <td>177005</td>\n",
       "      <td>96.23</td>\n",
       "      <td>München</td>\n",
       "      <td>Thalk.Obersendl.-Forsten-Fürstenr.-Solln</td>\n",
       "      <td>Balkon</td>\n",
       "      <td>ETAGE</td>\n",
       "      <td>2085</td>\n",
       "      <td>4</td>\n",
       "    </tr>\n",
       "  </tbody>\n",
       "</table>\n",
       "</div>"
      ],
      "text/plain": [
       "  id enh_impression_position  search_sortby  object_area object_city  \\\n",
       "0  0                     1.0        2594468        37.00     München   \n",
       "1  1                     2.0         177005        53.06     München   \n",
       "2  2                     3.0         177005        64.16     München   \n",
       "3  3                     4.0         177005        49.46     München   \n",
       "4  4                     5.0         177005        96.23     München   \n",
       "\n",
       "                            object_district object_features  \\\n",
       "0  Thalk.Obersendl.-Forsten-Fürstenr.-Solln      Balkon|EBK   \n",
       "1  Thalk.Obersendl.-Forsten-Fürstenr.-Solln          Balkon   \n",
       "2  Thalk.Obersendl.-Forsten-Fürstenr.-Solln             NaN   \n",
       "3  Thalk.Obersendl.-Forsten-Fürstenr.-Solln             NaN   \n",
       "4  Thalk.Obersendl.-Forsten-Fürstenr.-Solln          Balkon   \n",
       "\n",
       "  object_objektart_sub  object_price  object_rooms  \n",
       "0            APARTMENT          1120             1  \n",
       "1                ETAGE          1339             2  \n",
       "2                ETAGE          1509             2  \n",
       "3          ERDGESCHOSS          1600             2  \n",
       "4                ETAGE          2085             4  "
      ]
     },
     "execution_count": 265,
     "metadata": {},
     "output_type": "execute_result"
    }
   ],
   "source": [
    "df3.head()"
   ]
  },
  {
   "cell_type": "markdown",
   "id": "78f7deca",
   "metadata": {},
   "source": [
    "A closer look to the columns \"object_city\" and \"object_district\" tells me that the \"object_district\" value is for the value \"München\" in the column \"object_city\" the city district. For the other values in the column \"object_district\" they are smaller villages inside a village district. This villages aren´t located in Munich. They are located around the city.  \n",
    "For the machine learning model I will just use the districs of Munich and not the villages around of the city."
   ]
  },
  {
   "cell_type": "markdown",
   "id": "a29d642a",
   "metadata": {},
   "source": [
    "To check how many rows I will lose I use the following function:"
   ]
  },
  {
   "cell_type": "code",
   "execution_count": 266,
   "id": "0b36a3ea",
   "metadata": {},
   "outputs": [
    {
     "data": {
      "text/plain": [
       "330"
      ]
     },
     "execution_count": 266,
     "metadata": {},
     "output_type": "execute_result"
    }
   ],
   "source": [
    "len(df3[df3[\"object_city\"]!='München'])"
   ]
  },
  {
   "cell_type": "markdown",
   "id": "52cbf738",
   "metadata": {},
   "source": [
    "Now I will deleted all rows which are not located in munich. After that I delete the column \"object_city\", because it has after this operation no information value. "
   ]
  },
  {
   "cell_type": "code",
   "execution_count": 267,
   "id": "c70c25d2",
   "metadata": {},
   "outputs": [],
   "source": [
    "df4 = df3.loc[df2[\"object_city\"]=='München']"
   ]
  },
  {
   "cell_type": "code",
   "execution_count": 268,
   "id": "904257b9",
   "metadata": {},
   "outputs": [
    {
     "data": {
      "text/plain": [
       "(595, 10)"
      ]
     },
     "execution_count": 268,
     "metadata": {},
     "output_type": "execute_result"
    }
   ],
   "source": [
    "df4.shape"
   ]
  },
  {
   "cell_type": "markdown",
   "id": "557312e9",
   "metadata": {},
   "source": [
    "Now the column \"object_city\" can be deleted."
   ]
  },
  {
   "cell_type": "code",
   "execution_count": 269,
   "id": "7ed46a33",
   "metadata": {},
   "outputs": [],
   "source": [
    "df5 = df4.drop(\"object_city\", axis=1)"
   ]
  },
  {
   "cell_type": "code",
   "execution_count": 270,
   "id": "048ca063",
   "metadata": {},
   "outputs": [
    {
     "data": {
      "text/html": [
       "<div>\n",
       "<style scoped>\n",
       "    .dataframe tbody tr th:only-of-type {\n",
       "        vertical-align: middle;\n",
       "    }\n",
       "\n",
       "    .dataframe tbody tr th {\n",
       "        vertical-align: top;\n",
       "    }\n",
       "\n",
       "    .dataframe thead th {\n",
       "        text-align: right;\n",
       "    }\n",
       "</style>\n",
       "<table border=\"1\" class=\"dataframe\">\n",
       "  <thead>\n",
       "    <tr style=\"text-align: right;\">\n",
       "      <th></th>\n",
       "      <th>id</th>\n",
       "      <th>enh_impression_position</th>\n",
       "      <th>search_sortby</th>\n",
       "      <th>object_area</th>\n",
       "      <th>object_district</th>\n",
       "      <th>object_features</th>\n",
       "      <th>object_objektart_sub</th>\n",
       "      <th>object_price</th>\n",
       "      <th>object_rooms</th>\n",
       "    </tr>\n",
       "  </thead>\n",
       "  <tbody>\n",
       "    <tr>\n",
       "      <th>0</th>\n",
       "      <td>0</td>\n",
       "      <td>1.0</td>\n",
       "      <td>2594468</td>\n",
       "      <td>37.00</td>\n",
       "      <td>Thalk.Obersendl.-Forsten-Fürstenr.-Solln</td>\n",
       "      <td>Balkon|EBK</td>\n",
       "      <td>APARTMENT</td>\n",
       "      <td>1120</td>\n",
       "      <td>1</td>\n",
       "    </tr>\n",
       "    <tr>\n",
       "      <th>1</th>\n",
       "      <td>1</td>\n",
       "      <td>2.0</td>\n",
       "      <td>177005</td>\n",
       "      <td>53.06</td>\n",
       "      <td>Thalk.Obersendl.-Forsten-Fürstenr.-Solln</td>\n",
       "      <td>Balkon</td>\n",
       "      <td>ETAGE</td>\n",
       "      <td>1339</td>\n",
       "      <td>2</td>\n",
       "    </tr>\n",
       "    <tr>\n",
       "      <th>2</th>\n",
       "      <td>2</td>\n",
       "      <td>3.0</td>\n",
       "      <td>177005</td>\n",
       "      <td>64.16</td>\n",
       "      <td>Thalk.Obersendl.-Forsten-Fürstenr.-Solln</td>\n",
       "      <td>NaN</td>\n",
       "      <td>ETAGE</td>\n",
       "      <td>1509</td>\n",
       "      <td>2</td>\n",
       "    </tr>\n",
       "    <tr>\n",
       "      <th>3</th>\n",
       "      <td>3</td>\n",
       "      <td>4.0</td>\n",
       "      <td>177005</td>\n",
       "      <td>49.46</td>\n",
       "      <td>Thalk.Obersendl.-Forsten-Fürstenr.-Solln</td>\n",
       "      <td>NaN</td>\n",
       "      <td>ERDGESCHOSS</td>\n",
       "      <td>1600</td>\n",
       "      <td>2</td>\n",
       "    </tr>\n",
       "    <tr>\n",
       "      <th>4</th>\n",
       "      <td>4</td>\n",
       "      <td>5.0</td>\n",
       "      <td>177005</td>\n",
       "      <td>96.23</td>\n",
       "      <td>Thalk.Obersendl.-Forsten-Fürstenr.-Solln</td>\n",
       "      <td>Balkon</td>\n",
       "      <td>ETAGE</td>\n",
       "      <td>2085</td>\n",
       "      <td>4</td>\n",
       "    </tr>\n",
       "  </tbody>\n",
       "</table>\n",
       "</div>"
      ],
      "text/plain": [
       "  id enh_impression_position  search_sortby  object_area  \\\n",
       "0  0                     1.0        2594468        37.00   \n",
       "1  1                     2.0         177005        53.06   \n",
       "2  2                     3.0         177005        64.16   \n",
       "3  3                     4.0         177005        49.46   \n",
       "4  4                     5.0         177005        96.23   \n",
       "\n",
       "                            object_district object_features  \\\n",
       "0  Thalk.Obersendl.-Forsten-Fürstenr.-Solln      Balkon|EBK   \n",
       "1  Thalk.Obersendl.-Forsten-Fürstenr.-Solln          Balkon   \n",
       "2  Thalk.Obersendl.-Forsten-Fürstenr.-Solln             NaN   \n",
       "3  Thalk.Obersendl.-Forsten-Fürstenr.-Solln             NaN   \n",
       "4  Thalk.Obersendl.-Forsten-Fürstenr.-Solln          Balkon   \n",
       "\n",
       "  object_objektart_sub  object_price  object_rooms  \n",
       "0            APARTMENT          1120             1  \n",
       "1                ETAGE          1339             2  \n",
       "2                ETAGE          1509             2  \n",
       "3          ERDGESCHOSS          1600             2  \n",
       "4                ETAGE          2085             4  "
      ]
     },
     "execution_count": 270,
     "metadata": {},
     "output_type": "execute_result"
    }
   ],
   "source": [
    "df5.head()"
   ]
  },
  {
   "cell_type": "markdown",
   "id": "5becf6c1",
   "metadata": {},
   "source": [
    "Now I look closer to the categorical variables. Here I try to find out how often each unique value is occur in the columns. This gives me a feeling how the data is distribute and which values appears often or rare. Additionally I check how many different unique values there are."
   ]
  },
  {
   "cell_type": "code",
   "execution_count": 271,
   "id": "ec579356",
   "metadata": {
    "scrolled": true
   },
   "outputs": [
    {
     "data": {
      "text/plain": [
       "Thalk.Obersendl.-Forsten-Fürstenr.-Solln    0.125637\n",
       "Aubing-Lochhausen-Langwied                  0.081494\n",
       "Bogenhausen                                 0.073005\n",
       "Ramersdorf-Perlach                          0.071307\n",
       "Schwabing-Freimann                          0.067912\n",
       "Neuhausen-Nymphenburg                       0.054329\n",
       "Pasing-Obermenzing                          0.052632\n",
       "Maxvorstadt                                 0.050934\n",
       "Altstadt-Lehel                              0.042445\n",
       "Ludwigsvorstadt-Isarvorstadt                0.037351\n",
       "Untergiesing-Harlaching                     0.035654\n",
       "Sendling                                    0.033956\n",
       "Moosach                                     0.030560\n",
       "Au-Haidhausen                               0.030560\n",
       "Schwabing-West                              0.027165\n",
       "Sendling-Westpark                           0.027165\n",
       "Obergiesing                                 0.025467\n",
       "Milbertshofen-Am Hart                       0.023769\n",
       "Trudering-Riem                              0.022071\n",
       "Hadern                                      0.020374\n",
       "Allach-Untermenzing                         0.016978\n",
       "Schwanthalerhöhe                            0.013582\n",
       "Laim                                        0.013582\n",
       "Berg am Laim                                0.013582\n",
       "Feldmoching-Hasenbergl                      0.008489\n",
       "Name: object_district, dtype: float64"
      ]
     },
     "execution_count": 271,
     "metadata": {},
     "output_type": "execute_result"
    }
   ],
   "source": [
    "df5[\"object_district\"].value_counts(normalize=True) "
   ]
  },
  {
   "cell_type": "code",
   "execution_count": 272,
   "id": "ef47f511",
   "metadata": {},
   "outputs": [
    {
     "data": {
      "text/plain": [
       "25"
      ]
     },
     "execution_count": 272,
     "metadata": {},
     "output_type": "execute_result"
    }
   ],
   "source": [
    "len(df5[\"object_district\"].value_counts(normalize=True))"
   ]
  },
  {
   "cell_type": "code",
   "execution_count": 273,
   "id": "71c50b5f",
   "metadata": {},
   "outputs": [
    {
     "data": {
      "image/png": "[encoded data removed]",
      "text/plain": [
       "<Figure size 1000x700 with 1 Axes>"
      ]
     },
     "metadata": {},
     "output_type": "display_data"
    }
   ],
   "source": [
    "df5[\"object_district\"].value_counts(normalize=True).plot.pie(autopct=\"%.2f\" ,fontsize=7, figsize=(10,7), \n",
    "                                                               subplots=True, labeldistance=None, legend=True)\n",
    "plt.legend(loc='center left', bbox_to_anchor=(1.0, 0.5))\n",
    "plt.show()"
   ]
  },
  {
   "cell_type": "markdown",
   "id": "d2fe4032",
   "metadata": {},
   "source": [
    "The data in \"object_district\" is wide spreaded and how many different unique values (25). This means that there are no areas which have the most rentable flats. \n",
    "It seems like that most of the rentable flats are in structurally strong districts with high prices per square meter. "
   ]
  },
  {
   "cell_type": "markdown",
   "id": "b6c6a689",
   "metadata": {},
   "source": [
    "To check this assumption I need to create a new feature. This feature should be the prices per square meter."
   ]
  },
  {
   "cell_type": "markdown",
   "id": "3739d9ee",
   "metadata": {},
   "source": [
    "First of all I check if there are any zero values, because this cause trouble if i want to calculate the price per square meter."
   ]
  },
  {
   "cell_type": "code",
   "execution_count": 274,
   "id": "9f55ac8d",
   "metadata": {},
   "outputs": [
    {
     "name": "stdout",
     "output_type": "stream",
     "text": [
      "6\n"
     ]
    },
    {
     "data": {
      "text/html": [
       "<div>\n",
       "<style scoped>\n",
       "    .dataframe tbody tr th:only-of-type {\n",
       "        vertical-align: middle;\n",
       "    }\n",
       "\n",
       "    .dataframe tbody tr th {\n",
       "        vertical-align: top;\n",
       "    }\n",
       "\n",
       "    .dataframe thead th {\n",
       "        text-align: right;\n",
       "    }\n",
       "</style>\n",
       "<table border=\"1\" class=\"dataframe\">\n",
       "  <thead>\n",
       "    <tr style=\"text-align: right;\">\n",
       "      <th></th>\n",
       "      <th>object_area</th>\n",
       "    </tr>\n",
       "  </thead>\n",
       "  <tbody>\n",
       "    <tr>\n",
       "      <th>94</th>\n",
       "      <td>0.0</td>\n",
       "    </tr>\n",
       "    <tr>\n",
       "      <th>124</th>\n",
       "      <td>0.0</td>\n",
       "    </tr>\n",
       "    <tr>\n",
       "      <th>399</th>\n",
       "      <td>0.0</td>\n",
       "    </tr>\n",
       "    <tr>\n",
       "      <th>532</th>\n",
       "      <td>0.0</td>\n",
       "    </tr>\n",
       "    <tr>\n",
       "      <th>593</th>\n",
       "      <td>0.0</td>\n",
       "    </tr>\n",
       "    <tr>\n",
       "      <th>594</th>\n",
       "      <td>0.0</td>\n",
       "    </tr>\n",
       "  </tbody>\n",
       "</table>\n",
       "</div>"
      ],
      "text/plain": [
       "     object_area\n",
       "94           0.0\n",
       "124          0.0\n",
       "399          0.0\n",
       "532          0.0\n",
       "593          0.0\n",
       "594          0.0"
      ]
     },
     "execution_count": 274,
     "metadata": {},
     "output_type": "execute_result"
    }
   ],
   "source": [
    "print(df5[df5[\"object_area\"]==0.0].count()[0])\n",
    "df5[df5[\"object_area\"]==0.0].iloc[:, 3:4]"
   ]
  },
  {
   "cell_type": "code",
   "execution_count": 275,
   "id": "42b3ebcb",
   "metadata": {},
   "outputs": [],
   "source": [
    "df5 = df5[df5.object_area != 0]"
   ]
  },
  {
   "cell_type": "code",
   "execution_count": 292,
   "id": "7fb62437",
   "metadata": {},
   "outputs": [
    {
     "data": {
      "text/plain": [
       "0"
      ]
     },
     "execution_count": 292,
     "metadata": {},
     "output_type": "execute_result"
    }
   ],
   "source": [
    "df5[df5[\"object_price\"]==0.0].count()[0]"
   ]
  },
  {
   "cell_type": "markdown",
   "id": "ae1dcd3d",
   "metadata": {},
   "source": [
    "Then I create the new column \"prices_per_square_meter\" with the corresponding values."
   ]
  },
  {
   "cell_type": "code",
   "execution_count": 277,
   "id": "baf0482c",
   "metadata": {},
   "outputs": [],
   "source": [
    "df5[\"prices_per_square_meter\"] = round(df5[\"object_price\"] / df5[\"object_area\"], 0)"
   ]
  },
  {
   "cell_type": "markdown",
   "id": "4a64345f",
   "metadata": {},
   "source": [
    "If I want to test this assumption I need to find the mean price per square meter for each district and then compare it with the amount of flat ads in the respective district. If the biggest numbers of ads for each district are also the districts with the highest price per square meter, then my assumption might be true."
   ]
  },
  {
   "cell_type": "code",
   "execution_count": 282,
   "id": "367da21a",
   "metadata": {},
   "outputs": [],
   "source": [
    "def get_mean_len_districts(df):\n",
    "    list_mean_sqt =[]\n",
    "    list_len_ads = []\n",
    "    unique_values = df[\"object_district\"].unique().tolist()\n",
    "    for i in unique_values:\n",
    "        df_new = df.iloc[np.where(df[\"object_district\"]==i)]\n",
    "        if len(df_new[\"prices_per_square_meter\"].tolist()) != 0:\n",
    "            list_mean_sqt.append(round(sum(df_new[\"prices_per_square_meter\"].tolist())/len\n",
    "                             (df_new[\"prices_per_square_meter\"].tolist()),2))\n",
    "            list_len_ads.append(len(df_new))\n",
    "    return list_mean_sqt, list_len_ads"
   ]
  },
  {
   "cell_type": "code",
   "execution_count": 283,
   "id": "dc1742a9",
   "metadata": {},
   "outputs": [],
   "source": [
    "x, y = get_mean_len_districts(df5)"
   ]
  },
  {
   "cell_type": "code",
   "execution_count": 291,
   "id": "1e0a6ad7",
   "metadata": {},
   "outputs": [
    {
     "data": {
      "image/png": "[encoded data removed]",
      "text/plain": [
       "<Figure size 640x480 with 1 Axes>"
      ]
     },
     "metadata": {},
     "output_type": "display_data"
    }
   ],
   "source": [
    "ax = plt.axes()\n",
    "plt.scatter(x, y, color=\"lightcoral\")\n",
    "plt.title(\"Correlation between Ad-Frequency and Price per square meter\")\n",
    "plt.plot([20,22.5,25,27.5,30,35], [10,20,30,40,50,70], color=\"turquoise\")\n",
    "plt.ylabel(\"Frequency of a district\")\n",
    "plt.xlabel(\"Mean prices per square meter\")\n",
    "ax.set_facecolor(\"whitesmoke\")\n",
    "plt.text(40, 30, 'Correlation-Factor: '+str(round(np.corrcoef(x,y)[1][0],2)))\n",
    "plt.grid(alpha=0.5)\n",
    "plt.show()"
   ]
  },
  {
   "cell_type": "markdown",
   "id": "2f9d497c",
   "metadata": {},
   "source": [
    "My assumption tend to be true, because there is a correlation faktor of 0.31 between the \"mean prices per square meter\" and the \"frequency of a district\". A value above 0.3 is considered as a low positive correlation. "
   ]
  },
  {
   "cell_type": "code",
   "execution_count": 26,
   "id": "ee0bd043",
   "metadata": {
    "scrolled": false
   },
   "outputs": [
    {
     "data": {
      "text/plain": [
       "Wohnung                0.366387\n",
       "ETAGE                  0.324370\n",
       "DACHGESCHOSS           0.089076\n",
       "ERDGESCHOSS            0.084034\n",
       "APARTMENT              0.065546\n",
       "MAISONETTE             0.036975\n",
       "PENTHOUSE              0.013445\n",
       "LOFT-STUDIO-ATELIER    0.010084\n",
       "SOUTERRAIN             0.010084\n",
       "Name: object_objektart_sub, dtype: float64"
      ]
     },
     "execution_count": 26,
     "metadata": {},
     "output_type": "execute_result"
    }
   ],
   "source": [
    "df5[\"object_objektart_sub\"].value_counts(normalize=True) "
   ]
  },
  {
   "cell_type": "code",
   "execution_count": 27,
   "id": "820d32aa",
   "metadata": {},
   "outputs": [
    {
     "data": {
      "text/plain": [
       "9"
      ]
     },
     "execution_count": 27,
     "metadata": {},
     "output_type": "execute_result"
    }
   ],
   "source": [
    "len(df5[\"object_objektart_sub\"].value_counts(normalize=True))"
   ]
  },
  {
   "cell_type": "code",
   "execution_count": 28,
   "id": "06fe5b14",
   "metadata": {},
   "outputs": [
    {
     "data": {
      "image/png": "[encoded data removed]",
      "text/plain": [
       "<Figure size 1000x700 with 1 Axes>"
      ]
     },
     "metadata": {},
     "output_type": "display_data"
    }
   ],
   "source": [
    "df5[\"object_objektart_sub\"].value_counts(normalize=True).plot.pie(autopct=\"%.2f\" ,fontsize=7, figsize=(10,7), \n",
    "                                                               subplots=True, labeldistance=None, legend=True)\n",
    "plt.legend(loc='center left', bbox_to_anchor=(1.0, 0.5))\n",
    "plt.show()"
   ]
  },
  {
   "cell_type": "markdown",
   "id": "0d65e00a",
   "metadata": {},
   "source": [
    "In this column we see that almost 80% of the data are the values \"Wohung\", \"ETAGE\", \"DACHGESCHOSS\". Every value is here a specific kind of a flat, except the value \"Wohnung\". This a general expression for a flat. This means that all \"Wohnung\" values can inlcude one of the other values. This can inpurity can lead to a weak correlation to the target variable (\"object_price\"). \n",
    "\n",
    "This is a nice example of how importent it is to understand your data!"
   ]
  },
  {
   "cell_type": "code",
   "execution_count": 345,
   "id": "750c4bd0",
   "metadata": {
    "scrolled": true
   },
   "outputs": [
    {
     "data": {
      "text/plain": [
       "Balkon|EBK           176\n",
       "Balkon               124\n",
       "EBK                   86\n",
       "Garten|Balkon|EBK     51\n",
       "Garten|EBK            45\n",
       "Garten|Balkon         26\n",
       "Garten                18\n",
       "Name: object_features, dtype: int64"
      ]
     },
     "execution_count": 345,
     "metadata": {},
     "output_type": "execute_result"
    }
   ],
   "source": [
    "df5[\"object_features\"].value_counts() "
   ]
  },
  {
   "cell_type": "code",
   "execution_count": 30,
   "id": "9c13f4cb",
   "metadata": {},
   "outputs": [
    {
     "data": {
      "text/plain": [
       "7"
      ]
     },
     "execution_count": 30,
     "metadata": {},
     "output_type": "execute_result"
    }
   ],
   "source": [
    "len(df5[\"object_features\"].value_counts(normalize=True))"
   ]
  },
  {
   "cell_type": "code",
   "execution_count": 31,
   "id": "d36e4a92",
   "metadata": {},
   "outputs": [
    {
     "data": {
      "image/png": "[encoded data removed]",
      "text/plain": [
       "<Figure size 1000x700 with 1 Axes>"
      ]
     },
     "metadata": {},
     "output_type": "display_data"
    }
   ],
   "source": [
    "df5[\"object_features\"].value_counts(normalize=True).plot.pie(autopct=\"%.2f\" ,fontsize=7, figsize=(10,7), \n",
    "                                                               subplots=True, labeldistance=None, legend=True)\n",
    "plt.legend(loc='center left', bbox_to_anchor=(1.0, 0.5))\n",
    "plt.show()"
   ]
  },
  {
   "cell_type": "markdown",
   "id": "a8457b78",
   "metadata": {},
   "source": [
    "The values of this column aren´t that spreaded like the values of \"object_district\". The values here are similar to \"object_objektart_sub\", except that here not so many \"niche\" values.\n",
    "Most of the rentable flats have a equipped kitchen (>68%). Also, most of the flats have a balcony (73%). It´s unusual that almost 15% of the data have a garden and balcony. this can only be possible if it is a two storey house. I´m not sure if there are so many rentable houses in Munich. One option to check this is to look at the square meter of this sepecific data. If its bigger the 120m^2 than its probably a house. If not, it can be an error or the balcony could be a terrace."
   ]
  },
  {
   "cell_type": "code",
   "execution_count": 333,
   "id": "4d9b101f",
   "metadata": {},
   "outputs": [],
   "source": [
    "values_120sqm = []"
   ]
  },
  {
   "cell_type": "code",
   "execution_count": 334,
   "id": "9d0e914b",
   "metadata": {},
   "outputs": [],
   "source": [
    "values_120sqm.append(df5[df5[\"object_features\"] == \"Garten|Balkon|EBK\"][df5\n",
    "                                                   [df5[\"object_features\"] == \"Garten|Balkon|EBK\"]\n",
    "                                                   [\"object_area\"]>=120][\"object_area\"].tolist())"
   ]
  },
  {
   "cell_type": "code",
   "execution_count": 336,
   "id": "5f5108b7",
   "metadata": {},
   "outputs": [],
   "source": [
    "values_120sqm.append(df5[df5[\"object_features\"] == \"Garten|Balkon\"][df5\n",
    "                                                   [df5[\"object_features\"] == \"Garten|Balkon\"]\n",
    "                                                   [\"object_area\"]>=120][\"object_area\"].tolist())"
   ]
  },
  {
   "cell_type": "code",
   "execution_count": null,
   "id": "8dfb90b5",
   "metadata": {},
   "outputs": [],
   "source": [
    "values_120sqm.append(df5[df5[\"object_features\"] == \"Garten|Balkon\"][df5\n",
    "                                                   [df5[\"object_features\"] == \"Garten|Balkon\"]\n",
    "                                                   [\"object_area\"]>=120][\"object_area\"].tolist())"
   ]
  },
  {
   "cell_type": "code",
   "execution_count": 337,
   "id": "8b0ad0e7",
   "metadata": {},
   "outputs": [
    {
     "data": {
      "text/plain": [
       "[[122.0, 565.97, 145.0, 145.0, 128.0, 151.48, 176.0, 148.53, 194.0], [151.38]]"
      ]
     },
     "execution_count": 337,
     "metadata": {},
     "output_type": "execute_result"
    }
   ],
   "source": [
    "values_120sqm"
   ]
  },
  {
   "cell_type": "code",
   "execution_count": 346,
   "id": "9d7fa8a5",
   "metadata": {},
   "outputs": [
    {
     "data": {
      "text/plain": [
       "10"
      ]
     },
     "execution_count": 346,
     "metadata": {},
     "output_type": "execute_result"
    }
   ],
   "source": [
    "len(values_120sqm[0])+len(values_120sqm[1])"
   ]
  },
  {
   "cell_type": "code",
   "execution_count": 445,
   "id": "75b6fd22",
   "metadata": {
    "scrolled": false
   },
   "outputs": [
    {
     "data": {
      "image/png": "[encoded data removed]",
      "text/plain": [
       "<Figure size 640x480 with 1 Axes>"
      ]
     },
     "metadata": {},
     "output_type": "display_data"
    }
   ],
   "source": [
    "ax = plt.axes()\n",
    "plt.bar(x=[\"All objects with \\n garden and balcony\", \"Objects with garden \\n and balcony >120m^2\"], \n",
    "        height=[len(df5[df5[\"object_features\"] == \"Garten|Balkon|EBK\"])+len(df5[df5[\"object_features\"]\n",
    "        == \"Garten|Balkon\"]), len(values_120sqm[0])+len(values_120sqm[1])], color=\"lightcoral\", width=0.3)\n",
    "plt.title(\"Comparison frequences of all flats and flat size\")\n",
    "ax.set_facecolor(\"whitesmoke\")\n",
    "plt.ylabel(\"Frequency\")\n",
    "plt.grid(alpha=0.5)\n",
    "plt.show()"
   ]
  },
  {
   "cell_type": "markdown",
   "id": "681e4149",
   "metadata": {},
   "source": [
    "Now it´s obviouse that there are just few data, which can to be considered as a house. That´s why my guess is that the balconies with garden are probably terraces. "
   ]
  },
  {
   "cell_type": "markdown",
   "id": "3817a941",
   "metadata": {},
   "source": [
    "This thesis is supported through the following dataframe:"
   ]
  },
  {
   "cell_type": "code",
   "execution_count": 465,
   "id": "6a6e32d8",
   "metadata": {
    "scrolled": true
   },
   "outputs": [
    {
     "data": {
      "text/html": [
       "<div>\n",
       "<style scoped>\n",
       "    .dataframe tbody tr th:only-of-type {\n",
       "        vertical-align: middle;\n",
       "    }\n",
       "\n",
       "    .dataframe tbody tr th {\n",
       "        vertical-align: top;\n",
       "    }\n",
       "\n",
       "    .dataframe thead th {\n",
       "        text-align: right;\n",
       "    }\n",
       "</style>\n",
       "<table border=\"1\" class=\"dataframe\">\n",
       "  <thead>\n",
       "    <tr style=\"text-align: right;\">\n",
       "      <th></th>\n",
       "      <th>object_area</th>\n",
       "      <th>object_district</th>\n",
       "      <th>object_features</th>\n",
       "      <th>object_objektart_sub</th>\n",
       "    </tr>\n",
       "  </thead>\n",
       "  <tbody>\n",
       "    <tr>\n",
       "      <th>3</th>\n",
       "      <td>49.46</td>\n",
       "      <td>Thalk.Obersendl.-Forsten-Fürstenr.-Solln</td>\n",
       "      <td>NaN</td>\n",
       "      <td>ERDGESCHOSS</td>\n",
       "    </tr>\n",
       "    <tr>\n",
       "      <th>16</th>\n",
       "      <td>60.00</td>\n",
       "      <td>Neuhausen-Nymphenburg</td>\n",
       "      <td>Balkon|EBK</td>\n",
       "      <td>ERDGESCHOSS</td>\n",
       "    </tr>\n",
       "    <tr>\n",
       "      <th>44</th>\n",
       "      <td>122.00</td>\n",
       "      <td>Obergiesing</td>\n",
       "      <td>Garten|Balkon|EBK</td>\n",
       "      <td>ERDGESCHOSS</td>\n",
       "    </tr>\n",
       "    <tr>\n",
       "      <th>55</th>\n",
       "      <td>25.00</td>\n",
       "      <td>Ramersdorf-Perlach</td>\n",
       "      <td>Garten|EBK</td>\n",
       "      <td>ERDGESCHOSS</td>\n",
       "    </tr>\n",
       "    <tr>\n",
       "      <th>57</th>\n",
       "      <td>33.65</td>\n",
       "      <td>Sendling</td>\n",
       "      <td>Balkon</td>\n",
       "      <td>ERDGESCHOSS</td>\n",
       "    </tr>\n",
       "    <tr>\n",
       "      <th>87</th>\n",
       "      <td>47.35</td>\n",
       "      <td>Thalk.Obersendl.-Forsten-Fürstenr.-Solln</td>\n",
       "      <td>EBK</td>\n",
       "      <td>ERDGESCHOSS</td>\n",
       "    </tr>\n",
       "    <tr>\n",
       "      <th>100</th>\n",
       "      <td>61.10</td>\n",
       "      <td>Thalk.Obersendl.-Forsten-Fürstenr.-Solln</td>\n",
       "      <td>Balkon|EBK</td>\n",
       "      <td>ERDGESCHOSS</td>\n",
       "    </tr>\n",
       "    <tr>\n",
       "      <th>103</th>\n",
       "      <td>55.48</td>\n",
       "      <td>Thalk.Obersendl.-Forsten-Fürstenr.-Solln</td>\n",
       "      <td>NaN</td>\n",
       "      <td>ERDGESCHOSS</td>\n",
       "    </tr>\n",
       "    <tr>\n",
       "      <th>104</th>\n",
       "      <td>36.00</td>\n",
       "      <td>Bogenhausen</td>\n",
       "      <td>EBK</td>\n",
       "      <td>ERDGESCHOSS</td>\n",
       "    </tr>\n",
       "    <tr>\n",
       "      <th>138</th>\n",
       "      <td>45.79</td>\n",
       "      <td>Thalk.Obersendl.-Forsten-Fürstenr.-Solln</td>\n",
       "      <td>Garten|Balkon</td>\n",
       "      <td>ERDGESCHOSS</td>\n",
       "    </tr>\n",
       "    <tr>\n",
       "      <th>142</th>\n",
       "      <td>52.60</td>\n",
       "      <td>Trudering-Riem</td>\n",
       "      <td>Garten|EBK</td>\n",
       "      <td>ERDGESCHOSS</td>\n",
       "    </tr>\n",
       "    <tr>\n",
       "      <th>171</th>\n",
       "      <td>60.89</td>\n",
       "      <td>Schwabing-West</td>\n",
       "      <td>EBK</td>\n",
       "      <td>ERDGESCHOSS</td>\n",
       "    </tr>\n",
       "    <tr>\n",
       "      <th>199</th>\n",
       "      <td>67.99</td>\n",
       "      <td>Neuhausen-Nymphenburg</td>\n",
       "      <td>Balkon|EBK</td>\n",
       "      <td>ERDGESCHOSS</td>\n",
       "    </tr>\n",
       "    <tr>\n",
       "      <th>200</th>\n",
       "      <td>76.64</td>\n",
       "      <td>Thalk.Obersendl.-Forsten-Fürstenr.-Solln</td>\n",
       "      <td>Garten</td>\n",
       "      <td>ERDGESCHOSS</td>\n",
       "    </tr>\n",
       "    <tr>\n",
       "      <th>202</th>\n",
       "      <td>43.60</td>\n",
       "      <td>Schwanthalerhöhe</td>\n",
       "      <td>Balkon|EBK</td>\n",
       "      <td>ERDGESCHOSS</td>\n",
       "    </tr>\n",
       "    <tr>\n",
       "      <th>206</th>\n",
       "      <td>62.33</td>\n",
       "      <td>Aubing-Lochhausen-Langwied</td>\n",
       "      <td>Garten|EBK</td>\n",
       "      <td>ERDGESCHOSS</td>\n",
       "    </tr>\n",
       "    <tr>\n",
       "      <th>210</th>\n",
       "      <td>73.00</td>\n",
       "      <td>Pasing-Obermenzing</td>\n",
       "      <td>Garten</td>\n",
       "      <td>ERDGESCHOSS</td>\n",
       "    </tr>\n",
       "    <tr>\n",
       "      <th>211</th>\n",
       "      <td>65.38</td>\n",
       "      <td>Berg am Laim</td>\n",
       "      <td>Garten</td>\n",
       "      <td>ERDGESCHOSS</td>\n",
       "    </tr>\n",
       "    <tr>\n",
       "      <th>214</th>\n",
       "      <td>59.89</td>\n",
       "      <td>Moosach</td>\n",
       "      <td>Garten|EBK</td>\n",
       "      <td>ERDGESCHOSS</td>\n",
       "    </tr>\n",
       "    <tr>\n",
       "      <th>222</th>\n",
       "      <td>45.16</td>\n",
       "      <td>Schwanthalerhöhe</td>\n",
       "      <td>EBK</td>\n",
       "      <td>ERDGESCHOSS</td>\n",
       "    </tr>\n",
       "  </tbody>\n",
       "</table>\n",
       "</div>"
      ],
      "text/plain": [
       "     object_area                           object_district    object_features  \\\n",
       "3          49.46  Thalk.Obersendl.-Forsten-Fürstenr.-Solln                NaN   \n",
       "16         60.00                     Neuhausen-Nymphenburg         Balkon|EBK   \n",
       "44        122.00                               Obergiesing  Garten|Balkon|EBK   \n",
       "55         25.00                        Ramersdorf-Perlach         Garten|EBK   \n",
       "57         33.65                                  Sendling             Balkon   \n",
       "87         47.35  Thalk.Obersendl.-Forsten-Fürstenr.-Solln                EBK   \n",
       "100        61.10  Thalk.Obersendl.-Forsten-Fürstenr.-Solln         Balkon|EBK   \n",
       "103        55.48  Thalk.Obersendl.-Forsten-Fürstenr.-Solln                NaN   \n",
       "104        36.00                               Bogenhausen                EBK   \n",
       "138        45.79  Thalk.Obersendl.-Forsten-Fürstenr.-Solln      Garten|Balkon   \n",
       "142        52.60                            Trudering-Riem         Garten|EBK   \n",
       "171        60.89                            Schwabing-West                EBK   \n",
       "199        67.99                     Neuhausen-Nymphenburg         Balkon|EBK   \n",
       "200        76.64  Thalk.Obersendl.-Forsten-Fürstenr.-Solln             Garten   \n",
       "202        43.60                          Schwanthalerhöhe         Balkon|EBK   \n",
       "206        62.33                Aubing-Lochhausen-Langwied         Garten|EBK   \n",
       "210        73.00                        Pasing-Obermenzing             Garten   \n",
       "211        65.38                              Berg am Laim             Garten   \n",
       "214        59.89                                   Moosach         Garten|EBK   \n",
       "222        45.16                          Schwanthalerhöhe                EBK   \n",
       "\n",
       "    object_objektart_sub  \n",
       "3            ERDGESCHOSS  \n",
       "16           ERDGESCHOSS  \n",
       "44           ERDGESCHOSS  \n",
       "55           ERDGESCHOSS  \n",
       "57           ERDGESCHOSS  \n",
       "87           ERDGESCHOSS  \n",
       "100          ERDGESCHOSS  \n",
       "103          ERDGESCHOSS  \n",
       "104          ERDGESCHOSS  \n",
       "138          ERDGESCHOSS  \n",
       "142          ERDGESCHOSS  \n",
       "171          ERDGESCHOSS  \n",
       "199          ERDGESCHOSS  \n",
       "200          ERDGESCHOSS  \n",
       "202          ERDGESCHOSS  \n",
       "206          ERDGESCHOSS  \n",
       "210          ERDGESCHOSS  \n",
       "211          ERDGESCHOSS  \n",
       "214          ERDGESCHOSS  \n",
       "222          ERDGESCHOSS  "
      ]
     },
     "execution_count": 465,
     "metadata": {},
     "output_type": "execute_result"
    }
   ],
   "source": [
    "df5[df5[\"object_objektart_sub\"] == \"ERDGESCHOSS\"].iloc[:20,3:7]"
   ]
  },
  {
   "cell_type": "markdown",
   "id": "3c013289",
   "metadata": {},
   "source": [
    "The value \"ERDGESCHOSS\" in the column \"object_objektart_sub\", which implies that the flat is in the first floor has the corresponding value \"Balkon\" (belcony). The value with the id 55 has also a such small living area, that it is impossible that this flat has a secound floor. "
   ]
  },
  {
   "cell_type": "markdown",
   "id": "e47a26a8",
   "metadata": {},
   "source": [
    "The next challenges will be to transform object data to numeric values. The challenge here is to choose the right technique, which not harm the machine learning modell."
   ]
  },
  {
   "cell_type": "markdown",
   "id": "32bcfe3e",
   "metadata": {},
   "source": [
    "Because all the object features are nominal the simplest method to encode them is the One-Hot Encoding. In this process each unique value of each object column will be transformed to the value \"1\" and also get his own column. All other values in this column will be \"0\"."
   ]
  },
  {
   "cell_type": "code",
   "execution_count": 352,
   "id": "362dcdc1",
   "metadata": {},
   "outputs": [],
   "source": [
    "def one_hot_encoding(df):\n",
    "    for i in df:\n",
    "        if df[i].dtypes == \"object\" and i !=\"id\":\n",
    "            df = pd.get_dummies(data=df, columns=[i])\n",
    "    return df"
   ]
  },
  {
   "cell_type": "code",
   "execution_count": 353,
   "id": "bdbe1640",
   "metadata": {},
   "outputs": [],
   "source": [
    "df6 = one_hot_encoding(df5)"
   ]
  },
  {
   "cell_type": "code",
   "execution_count": 354,
   "id": "4c374580",
   "metadata": {},
   "outputs": [
    {
     "data": {
      "text/html": [
       "<div>\n",
       "<style scoped>\n",
       "    .dataframe tbody tr th:only-of-type {\n",
       "        vertical-align: middle;\n",
       "    }\n",
       "\n",
       "    .dataframe tbody tr th {\n",
       "        vertical-align: top;\n",
       "    }\n",
       "\n",
       "    .dataframe thead th {\n",
       "        text-align: right;\n",
       "    }\n",
       "</style>\n",
       "<table border=\"1\" class=\"dataframe\">\n",
       "  <thead>\n",
       "    <tr style=\"text-align: right;\">\n",
       "      <th></th>\n",
       "      <th>id</th>\n",
       "      <th>enh_impression_position</th>\n",
       "      <th>search_sortby</th>\n",
       "      <th>object_area</th>\n",
       "      <th>object_price</th>\n",
       "      <th>object_rooms</th>\n",
       "      <th>prices_per_square_meter</th>\n",
       "      <th>object_district_Allach-Untermenzing</th>\n",
       "      <th>object_district_Altstadt-Lehel</th>\n",
       "      <th>object_district_Au-Haidhausen</th>\n",
       "      <th>...</th>\n",
       "      <th>object_features_Garten|EBK</th>\n",
       "      <th>object_objektart_sub_APARTMENT</th>\n",
       "      <th>object_objektart_sub_DACHGESCHOSS</th>\n",
       "      <th>object_objektart_sub_ERDGESCHOSS</th>\n",
       "      <th>object_objektart_sub_ETAGE</th>\n",
       "      <th>object_objektart_sub_LOFT-STUDIO-ATELIER</th>\n",
       "      <th>object_objektart_sub_MAISONETTE</th>\n",
       "      <th>object_objektart_sub_PENTHOUSE</th>\n",
       "      <th>object_objektart_sub_SOUTERRAIN</th>\n",
       "      <th>object_objektart_sub_Wohnung</th>\n",
       "    </tr>\n",
       "  </thead>\n",
       "  <tbody>\n",
       "    <tr>\n",
       "      <th>0</th>\n",
       "      <td>0</td>\n",
       "      <td>1.0</td>\n",
       "      <td>2594468</td>\n",
       "      <td>37.00</td>\n",
       "      <td>1120</td>\n",
       "      <td>1</td>\n",
       "      <td>30.0</td>\n",
       "      <td>0</td>\n",
       "      <td>0</td>\n",
       "      <td>0</td>\n",
       "      <td>...</td>\n",
       "      <td>0</td>\n",
       "      <td>1</td>\n",
       "      <td>0</td>\n",
       "      <td>0</td>\n",
       "      <td>0</td>\n",
       "      <td>0</td>\n",
       "      <td>0</td>\n",
       "      <td>0</td>\n",
       "      <td>0</td>\n",
       "      <td>0</td>\n",
       "    </tr>\n",
       "    <tr>\n",
       "      <th>1</th>\n",
       "      <td>1</td>\n",
       "      <td>2.0</td>\n",
       "      <td>177005</td>\n",
       "      <td>53.06</td>\n",
       "      <td>1339</td>\n",
       "      <td>2</td>\n",
       "      <td>25.0</td>\n",
       "      <td>0</td>\n",
       "      <td>0</td>\n",
       "      <td>0</td>\n",
       "      <td>...</td>\n",
       "      <td>0</td>\n",
       "      <td>0</td>\n",
       "      <td>0</td>\n",
       "      <td>0</td>\n",
       "      <td>1</td>\n",
       "      <td>0</td>\n",
       "      <td>0</td>\n",
       "      <td>0</td>\n",
       "      <td>0</td>\n",
       "      <td>0</td>\n",
       "    </tr>\n",
       "    <tr>\n",
       "      <th>2</th>\n",
       "      <td>2</td>\n",
       "      <td>3.0</td>\n",
       "      <td>177005</td>\n",
       "      <td>64.16</td>\n",
       "      <td>1509</td>\n",
       "      <td>2</td>\n",
       "      <td>24.0</td>\n",
       "      <td>0</td>\n",
       "      <td>0</td>\n",
       "      <td>0</td>\n",
       "      <td>...</td>\n",
       "      <td>0</td>\n",
       "      <td>0</td>\n",
       "      <td>0</td>\n",
       "      <td>0</td>\n",
       "      <td>1</td>\n",
       "      <td>0</td>\n",
       "      <td>0</td>\n",
       "      <td>0</td>\n",
       "      <td>0</td>\n",
       "      <td>0</td>\n",
       "    </tr>\n",
       "    <tr>\n",
       "      <th>3</th>\n",
       "      <td>3</td>\n",
       "      <td>4.0</td>\n",
       "      <td>177005</td>\n",
       "      <td>49.46</td>\n",
       "      <td>1600</td>\n",
       "      <td>2</td>\n",
       "      <td>32.0</td>\n",
       "      <td>0</td>\n",
       "      <td>0</td>\n",
       "      <td>0</td>\n",
       "      <td>...</td>\n",
       "      <td>0</td>\n",
       "      <td>0</td>\n",
       "      <td>0</td>\n",
       "      <td>1</td>\n",
       "      <td>0</td>\n",
       "      <td>0</td>\n",
       "      <td>0</td>\n",
       "      <td>0</td>\n",
       "      <td>0</td>\n",
       "      <td>0</td>\n",
       "    </tr>\n",
       "    <tr>\n",
       "      <th>4</th>\n",
       "      <td>4</td>\n",
       "      <td>5.0</td>\n",
       "      <td>177005</td>\n",
       "      <td>96.23</td>\n",
       "      <td>2085</td>\n",
       "      <td>4</td>\n",
       "      <td>22.0</td>\n",
       "      <td>0</td>\n",
       "      <td>0</td>\n",
       "      <td>0</td>\n",
       "      <td>...</td>\n",
       "      <td>0</td>\n",
       "      <td>0</td>\n",
       "      <td>0</td>\n",
       "      <td>0</td>\n",
       "      <td>1</td>\n",
       "      <td>0</td>\n",
       "      <td>0</td>\n",
       "      <td>0</td>\n",
       "      <td>0</td>\n",
       "      <td>0</td>\n",
       "    </tr>\n",
       "  </tbody>\n",
       "</table>\n",
       "<p>5 rows × 48 columns</p>\n",
       "</div>"
      ],
      "text/plain": [
       "  id enh_impression_position  search_sortby  object_area  object_price  \\\n",
       "0  0                     1.0        2594468        37.00          1120   \n",
       "1  1                     2.0         177005        53.06          1339   \n",
       "2  2                     3.0         177005        64.16          1509   \n",
       "3  3                     4.0         177005        49.46          1600   \n",
       "4  4                     5.0         177005        96.23          2085   \n",
       "\n",
       "   object_rooms  prices_per_square_meter  object_district_Allach-Untermenzing  \\\n",
       "0             1                     30.0                                    0   \n",
       "1             2                     25.0                                    0   \n",
       "2             2                     24.0                                    0   \n",
       "3             2                     32.0                                    0   \n",
       "4             4                     22.0                                    0   \n",
       "\n",
       "   object_district_Altstadt-Lehel  object_district_Au-Haidhausen  ...  \\\n",
       "0                               0                              0  ...   \n",
       "1                               0                              0  ...   \n",
       "2                               0                              0  ...   \n",
       "3                               0                              0  ...   \n",
       "4                               0                              0  ...   \n",
       "\n",
       "   object_features_Garten|EBK  object_objektart_sub_APARTMENT  \\\n",
       "0                           0                               1   \n",
       "1                           0                               0   \n",
       "2                           0                               0   \n",
       "3                           0                               0   \n",
       "4                           0                               0   \n",
       "\n",
       "   object_objektart_sub_DACHGESCHOSS  object_objektart_sub_ERDGESCHOSS  \\\n",
       "0                                  0                                 0   \n",
       "1                                  0                                 0   \n",
       "2                                  0                                 0   \n",
       "3                                  0                                 1   \n",
       "4                                  0                                 0   \n",
       "\n",
       "   object_objektart_sub_ETAGE  object_objektart_sub_LOFT-STUDIO-ATELIER  \\\n",
       "0                           0                                         0   \n",
       "1                           1                                         0   \n",
       "2                           1                                         0   \n",
       "3                           0                                         0   \n",
       "4                           1                                         0   \n",
       "\n",
       "   object_objektart_sub_MAISONETTE  object_objektart_sub_PENTHOUSE  \\\n",
       "0                                0                               0   \n",
       "1                                0                               0   \n",
       "2                                0                               0   \n",
       "3                                0                               0   \n",
       "4                                0                               0   \n",
       "\n",
       "   object_objektart_sub_SOUTERRAIN  object_objektart_sub_Wohnung  \n",
       "0                                0                             0  \n",
       "1                                0                             0  \n",
       "2                                0                             0  \n",
       "3                                0                             0  \n",
       "4                                0                             0  \n",
       "\n",
       "[5 rows x 48 columns]"
      ]
     },
     "execution_count": 354,
     "metadata": {},
     "output_type": "execute_result"
    }
   ],
   "source": [
    "df6.head()"
   ]
  },
  {
   "cell_type": "code",
   "execution_count": 355,
   "id": "9e6ede7d",
   "metadata": {},
   "outputs": [
    {
     "data": {
      "text/plain": [
       "(589, 48)"
      ]
     },
     "execution_count": 355,
     "metadata": {},
     "output_type": "execute_result"
    }
   ],
   "source": [
    "df6.shape"
   ]
  },
  {
   "cell_type": "markdown",
   "id": "7b596ded",
   "metadata": {},
   "source": [
    "Now there are clearly more columns then before. This can be lead to overfitting model, but nevertheless this is for this kind of data type the best option. To solve the problems of a overfittung model there are other options."
   ]
  },
  {
   "cell_type": "markdown",
   "id": "438c9f1d",
   "metadata": {},
   "source": [
    "The next part is to look closer to the numeric values."
   ]
  },
  {
   "cell_type": "markdown",
   "id": "bfcb9ed1",
   "metadata": {},
   "source": [
    "The \"enh_impression_position\" and \"search_sortby\" functions count values from the website, from which the values were scraped. That´s why they can be deleted."
   ]
  },
  {
   "cell_type": "code",
   "execution_count": 356,
   "id": "e5eb15e8",
   "metadata": {},
   "outputs": [],
   "source": [
    "df7 = df6.drop([\"enh_impression_position\", \"search_sortby\"], axis=1)"
   ]
  },
  {
   "cell_type": "markdown",
   "id": "c8c0acbf",
   "metadata": {},
   "source": [
    "Before I move further, I check if there are some missing values in the numeric features."
   ]
  },
  {
   "cell_type": "code",
   "execution_count": 359,
   "id": "4e327899",
   "metadata": {
    "scrolled": true
   },
   "outputs": [
    {
     "data": {
      "text/plain": [
       "id                         0\n",
       "object_area                0\n",
       "object_price               0\n",
       "object_rooms               0\n",
       "prices_per_square_meter    0\n",
       "dtype: int64"
      ]
     },
     "execution_count": 359,
     "metadata": {},
     "output_type": "execute_result"
    }
   ],
   "source": [
    "df7.isnull().iloc[:, :5].sum()"
   ]
  },
  {
   "cell_type": "markdown",
   "id": "0f330e32",
   "metadata": {},
   "source": [
    "Ok, there are no missing values. But may be there are implausible values."
   ]
  },
  {
   "cell_type": "markdown",
   "id": "3f8a3879",
   "metadata": {},
   "source": [
    "In the following table are the statistic informations about numeric variables."
   ]
  },
  {
   "cell_type": "code",
   "execution_count": 361,
   "id": "d3460a3a",
   "metadata": {
    "scrolled": true
   },
   "outputs": [
    {
     "data": {
      "text/html": [
       "<div>\n",
       "<style scoped>\n",
       "    .dataframe tbody tr th:only-of-type {\n",
       "        vertical-align: middle;\n",
       "    }\n",
       "\n",
       "    .dataframe tbody tr th {\n",
       "        vertical-align: top;\n",
       "    }\n",
       "\n",
       "    .dataframe thead th {\n",
       "        text-align: right;\n",
       "    }\n",
       "</style>\n",
       "<table border=\"1\" class=\"dataframe\">\n",
       "  <thead>\n",
       "    <tr style=\"text-align: right;\">\n",
       "      <th></th>\n",
       "      <th>object_area</th>\n",
       "      <th>object_price</th>\n",
       "      <th>object_rooms</th>\n",
       "      <th>prices_per_square_meter</th>\n",
       "    </tr>\n",
       "  </thead>\n",
       "  <tbody>\n",
       "    <tr>\n",
       "      <th>count</th>\n",
       "      <td>589.000000</td>\n",
       "      <td>589.000000</td>\n",
       "      <td>589.000000</td>\n",
       "      <td>589.000000</td>\n",
       "    </tr>\n",
       "    <tr>\n",
       "      <th>mean</th>\n",
       "      <td>81.819049</td>\n",
       "      <td>1945.960951</td>\n",
       "      <td>2.502547</td>\n",
       "      <td>25.797963</td>\n",
       "    </tr>\n",
       "    <tr>\n",
       "      <th>std</th>\n",
       "      <td>50.737958</td>\n",
       "      <td>1183.844093</td>\n",
       "      <td>1.176041</td>\n",
       "      <td>11.020000</td>\n",
       "    </tr>\n",
       "    <tr>\n",
       "      <th>min</th>\n",
       "      <td>15.000000</td>\n",
       "      <td>500.000000</td>\n",
       "      <td>0.000000</td>\n",
       "      <td>3.000000</td>\n",
       "    </tr>\n",
       "    <tr>\n",
       "      <th>25%</th>\n",
       "      <td>54.120000</td>\n",
       "      <td>1290.000000</td>\n",
       "      <td>2.000000</td>\n",
       "      <td>20.000000</td>\n",
       "    </tr>\n",
       "    <tr>\n",
       "      <th>50%</th>\n",
       "      <td>74.000000</td>\n",
       "      <td>1680.000000</td>\n",
       "      <td>2.000000</td>\n",
       "      <td>23.000000</td>\n",
       "    </tr>\n",
       "    <tr>\n",
       "      <th>75%</th>\n",
       "      <td>94.510000</td>\n",
       "      <td>2160.000000</td>\n",
       "      <td>3.000000</td>\n",
       "      <td>28.000000</td>\n",
       "    </tr>\n",
       "    <tr>\n",
       "      <th>max</th>\n",
       "      <td>565.970000</td>\n",
       "      <td>12300.000000</td>\n",
       "      <td>9.000000</td>\n",
       "      <td>98.000000</td>\n",
       "    </tr>\n",
       "  </tbody>\n",
       "</table>\n",
       "</div>"
      ],
      "text/plain": [
       "       object_area  object_price  object_rooms  prices_per_square_meter\n",
       "count   589.000000    589.000000    589.000000               589.000000\n",
       "mean     81.819049   1945.960951      2.502547                25.797963\n",
       "std      50.737958   1183.844093      1.176041                11.020000\n",
       "min      15.000000    500.000000      0.000000                 3.000000\n",
       "25%      54.120000   1290.000000      2.000000                20.000000\n",
       "50%      74.000000   1680.000000      2.000000                23.000000\n",
       "75%      94.510000   2160.000000      3.000000                28.000000\n",
       "max     565.970000  12300.000000      9.000000                98.000000"
      ]
     },
     "execution_count": 361,
     "metadata": {},
     "output_type": "execute_result"
    }
   ],
   "source": [
    "df7.describe().iloc[:, :4]"
   ]
  },
  {
   "cell_type": "markdown",
   "id": "ea36035d",
   "metadata": {},
   "source": [
    "I see here that in \"object rooms\" is the smallest value zero. This cann´t be truth. Let´s take a look at them, if there more of them.\n",
    "Also, is see that the smallest \"prices_per_square_meter\" is 3. This might be also untruth."
   ]
  },
  {
   "cell_type": "code",
   "execution_count": 375,
   "id": "e724e320",
   "metadata": {
    "scrolled": true
   },
   "outputs": [
    {
     "name": "stdout",
     "output_type": "stream",
     "text": [
      "2\n"
     ]
    },
    {
     "data": {
      "text/html": [
       "<div>\n",
       "<style scoped>\n",
       "    .dataframe tbody tr th:only-of-type {\n",
       "        vertical-align: middle;\n",
       "    }\n",
       "\n",
       "    .dataframe tbody tr th {\n",
       "        vertical-align: top;\n",
       "    }\n",
       "\n",
       "    .dataframe thead th {\n",
       "        text-align: right;\n",
       "    }\n",
       "</style>\n",
       "<table border=\"1\" class=\"dataframe\">\n",
       "  <thead>\n",
       "    <tr style=\"text-align: right;\">\n",
       "      <th></th>\n",
       "      <th>id</th>\n",
       "      <th>object_area</th>\n",
       "      <th>object_price</th>\n",
       "      <th>object_rooms</th>\n",
       "      <th>prices_per_square_meter</th>\n",
       "    </tr>\n",
       "  </thead>\n",
       "  <tbody>\n",
       "    <tr>\n",
       "      <th>186</th>\n",
       "      <td>186</td>\n",
       "      <td>52.6</td>\n",
       "      <td>1262</td>\n",
       "      <td>0</td>\n",
       "      <td>24.0</td>\n",
       "    </tr>\n",
       "    <tr>\n",
       "      <th>528</th>\n",
       "      <td>528</td>\n",
       "      <td>84.0</td>\n",
       "      <td>3000</td>\n",
       "      <td>0</td>\n",
       "      <td>36.0</td>\n",
       "    </tr>\n",
       "  </tbody>\n",
       "</table>\n",
       "</div>"
      ],
      "text/plain": [
       "      id  object_area  object_price  object_rooms  prices_per_square_meter\n",
       "186  186         52.6          1262             0                     24.0\n",
       "528  528         84.0          3000             0                     36.0"
      ]
     },
     "execution_count": 375,
     "metadata": {},
     "output_type": "execute_result"
    }
   ],
   "source": [
    "print(df7[df7[\"object_rooms\"]==0.0].count()[0])\n",
    "df7[df7[\"object_rooms\"]==0.0].iloc[:, :5]"
   ]
  },
  {
   "cell_type": "markdown",
   "id": "ae7b2b4e",
   "metadata": {},
   "source": [
    "I see that only 2 rows of the whole dataset are zeros. This could be a error of the my web scraper or an error of the website. Because there not so much of them I delete all of them."
   ]
  },
  {
   "cell_type": "code",
   "execution_count": 371,
   "id": "6d410a86",
   "metadata": {},
   "outputs": [],
   "source": [
    "df8 = df7.loc[df7[\"object_rooms\"]!=0.0]"
   ]
  },
  {
   "cell_type": "markdown",
   "id": "52461b76",
   "metadata": {},
   "source": [
    "Now I look at the suspicious min value of \"prices_per_square_meter\"."
   ]
  },
  {
   "cell_type": "code",
   "execution_count": 447,
   "id": "2629c94e",
   "metadata": {},
   "outputs": [
    {
     "name": "stdout",
     "output_type": "stream",
     "text": [
      "18\n"
     ]
    },
    {
     "data": {
      "text/html": [
       "<div>\n",
       "<style scoped>\n",
       "    .dataframe tbody tr th:only-of-type {\n",
       "        vertical-align: middle;\n",
       "    }\n",
       "\n",
       "    .dataframe tbody tr th {\n",
       "        vertical-align: top;\n",
       "    }\n",
       "\n",
       "    .dataframe thead th {\n",
       "        text-align: right;\n",
       "    }\n",
       "</style>\n",
       "<table border=\"1\" class=\"dataframe\">\n",
       "  <thead>\n",
       "    <tr style=\"text-align: right;\">\n",
       "      <th></th>\n",
       "      <th>id</th>\n",
       "      <th>object_area</th>\n",
       "      <th>object_price</th>\n",
       "      <th>object_rooms</th>\n",
       "      <th>prices_per_square_meter</th>\n",
       "    </tr>\n",
       "  </thead>\n",
       "  <tbody>\n",
       "    <tr>\n",
       "      <th>61</th>\n",
       "      <td>61</td>\n",
       "      <td>45.00</td>\n",
       "      <td>660</td>\n",
       "      <td>2</td>\n",
       "      <td>15.0</td>\n",
       "    </tr>\n",
       "    <tr>\n",
       "      <th>82</th>\n",
       "      <td>82</td>\n",
       "      <td>73.32</td>\n",
       "      <td>806</td>\n",
       "      <td>2</td>\n",
       "      <td>11.0</td>\n",
       "    </tr>\n",
       "    <tr>\n",
       "      <th>83</th>\n",
       "      <td>83</td>\n",
       "      <td>67.00</td>\n",
       "      <td>816</td>\n",
       "      <td>2</td>\n",
       "      <td>12.0</td>\n",
       "    </tr>\n",
       "    <tr>\n",
       "      <th>86</th>\n",
       "      <td>86</td>\n",
       "      <td>55.34</td>\n",
       "      <td>830</td>\n",
       "      <td>2</td>\n",
       "      <td>15.0</td>\n",
       "    </tr>\n",
       "    <tr>\n",
       "      <th>88</th>\n",
       "      <td>88</td>\n",
       "      <td>58.00</td>\n",
       "      <td>890</td>\n",
       "      <td>2</td>\n",
       "      <td>15.0</td>\n",
       "    </tr>\n",
       "    <tr>\n",
       "      <th>89</th>\n",
       "      <td>89</td>\n",
       "      <td>62.40</td>\n",
       "      <td>900</td>\n",
       "      <td>2</td>\n",
       "      <td>14.0</td>\n",
       "    </tr>\n",
       "    <tr>\n",
       "      <th>101</th>\n",
       "      <td>101</td>\n",
       "      <td>67.00</td>\n",
       "      <td>990</td>\n",
       "      <td>2</td>\n",
       "      <td>15.0</td>\n",
       "    </tr>\n",
       "    <tr>\n",
       "      <th>109</th>\n",
       "      <td>109</td>\n",
       "      <td>67.68</td>\n",
       "      <td>1008</td>\n",
       "      <td>2</td>\n",
       "      <td>15.0</td>\n",
       "    </tr>\n",
       "    <tr>\n",
       "      <th>119</th>\n",
       "      <td>119</td>\n",
       "      <td>81.00</td>\n",
       "      <td>1068</td>\n",
       "      <td>3</td>\n",
       "      <td>13.0</td>\n",
       "    </tr>\n",
       "    <tr>\n",
       "      <th>120</th>\n",
       "      <td>120</td>\n",
       "      <td>76.88</td>\n",
       "      <td>1077</td>\n",
       "      <td>3</td>\n",
       "      <td>14.0</td>\n",
       "    </tr>\n",
       "    <tr>\n",
       "      <th>123</th>\n",
       "      <td>123</td>\n",
       "      <td>73.00</td>\n",
       "      <td>1095</td>\n",
       "      <td>2</td>\n",
       "      <td>15.0</td>\n",
       "    </tr>\n",
       "    <tr>\n",
       "      <th>144</th>\n",
       "      <td>144</td>\n",
       "      <td>81.73</td>\n",
       "      <td>1142</td>\n",
       "      <td>3</td>\n",
       "      <td>14.0</td>\n",
       "    </tr>\n",
       "    <tr>\n",
       "      <th>162</th>\n",
       "      <td>162</td>\n",
       "      <td>93.69</td>\n",
       "      <td>1200</td>\n",
       "      <td>4</td>\n",
       "      <td>13.0</td>\n",
       "    </tr>\n",
       "    <tr>\n",
       "      <th>250</th>\n",
       "      <td>250</td>\n",
       "      <td>98.97</td>\n",
       "      <td>1460</td>\n",
       "      <td>3</td>\n",
       "      <td>15.0</td>\n",
       "    </tr>\n",
       "    <tr>\n",
       "      <th>327</th>\n",
       "      <td>327</td>\n",
       "      <td>112.63</td>\n",
       "      <td>1720</td>\n",
       "      <td>3</td>\n",
       "      <td>15.0</td>\n",
       "    </tr>\n",
       "    <tr>\n",
       "      <th>333</th>\n",
       "      <td>333</td>\n",
       "      <td>565.97</td>\n",
       "      <td>1750</td>\n",
       "      <td>2</td>\n",
       "      <td>3.0</td>\n",
       "    </tr>\n",
       "    <tr>\n",
       "      <th>460</th>\n",
       "      <td>460</td>\n",
       "      <td>145.00</td>\n",
       "      <td>2200</td>\n",
       "      <td>5</td>\n",
       "      <td>15.0</td>\n",
       "    </tr>\n",
       "    <tr>\n",
       "      <th>461</th>\n",
       "      <td>461</td>\n",
       "      <td>145.00</td>\n",
       "      <td>2200</td>\n",
       "      <td>5</td>\n",
       "      <td>15.0</td>\n",
       "    </tr>\n",
       "  </tbody>\n",
       "</table>\n",
       "</div>"
      ],
      "text/plain": [
       "      id  object_area  object_price  object_rooms  prices_per_square_meter\n",
       "61    61        45.00           660             2                     15.0\n",
       "82    82        73.32           806             2                     11.0\n",
       "83    83        67.00           816             2                     12.0\n",
       "86    86        55.34           830             2                     15.0\n",
       "88    88        58.00           890             2                     15.0\n",
       "89    89        62.40           900             2                     14.0\n",
       "101  101        67.00           990             2                     15.0\n",
       "109  109        67.68          1008             2                     15.0\n",
       "119  119        81.00          1068             3                     13.0\n",
       "120  120        76.88          1077             3                     14.0\n",
       "123  123        73.00          1095             2                     15.0\n",
       "144  144        81.73          1142             3                     14.0\n",
       "162  162        93.69          1200             4                     13.0\n",
       "250  250        98.97          1460             3                     15.0\n",
       "327  327       112.63          1720             3                     15.0\n",
       "333  333       565.97          1750             2                      3.0\n",
       "460  460       145.00          2200             5                     15.0\n",
       "461  461       145.00          2200             5                     15.0"
      ]
     },
     "execution_count": 447,
     "metadata": {},
     "output_type": "execute_result"
    }
   ],
   "source": [
    "print(df8[df8[\"prices_per_square_meter\"]<=15].count()[0])\n",
    "df8[df8[\"prices_per_square_meter\"]<=15].iloc[:, :5]"
   ]
  },
  {
   "cell_type": "markdown",
   "id": "a796df0e",
   "metadata": {},
   "source": [
    "It´s clear that this value significant small than the other values. Let´s visual this to make it clearer!"
   ]
  },
  {
   "cell_type": "code",
   "execution_count": 443,
   "id": "c31a8274",
   "metadata": {},
   "outputs": [
    {
     "data": {
      "image/png": "[encoded data removed]",
      "text/plain": [
       "<Figure size 640x480 with 1 Axes>"
      ]
     },
     "metadata": {},
     "output_type": "display_data"
    }
   ],
   "source": [
    "df9 = df8[df8[\"prices_per_square_meter\"]<=20].iloc[:, :5]\n",
    "ax = plt.axes()\n",
    "sns.scatterplot(\n",
    "    data=df9, x=\"object_area\", y=\"object_price\",\n",
    "    alpha=0.5\n",
    ")\n",
    "plt.grid(alpha=0.3)\n",
    "ax.set_facecolor(\"whitesmoke\")\n",
    "plt.title(\"Comparison between flat area and price\")\n",
    "plt.show()"
   ]
  },
  {
   "cell_type": "markdown",
   "id": "c5853af9",
   "metadata": {},
   "source": [
    "The price grows linear with the object area. But there is on expection. This is clearly a outlier. \n",
    "This outlier will mislead my machine learning model if I don´t delete it."
   ]
  },
  {
   "cell_type": "code",
   "execution_count": 448,
   "id": "f00d7393",
   "metadata": {},
   "outputs": [],
   "source": [
    "df9 = df8.loc[df8[\"prices_per_square_meter\"]!=3.0]"
   ]
  },
  {
   "cell_type": "code",
   "execution_count": 451,
   "id": "1559b81b",
   "metadata": {},
   "outputs": [
    {
     "data": {
      "text/html": [
       "<div>\n",
       "<style scoped>\n",
       "    .dataframe tbody tr th:only-of-type {\n",
       "        vertical-align: middle;\n",
       "    }\n",
       "\n",
       "    .dataframe tbody tr th {\n",
       "        vertical-align: top;\n",
       "    }\n",
       "\n",
       "    .dataframe thead th {\n",
       "        text-align: right;\n",
       "    }\n",
       "</style>\n",
       "<table border=\"1\" class=\"dataframe\">\n",
       "  <thead>\n",
       "    <tr style=\"text-align: right;\">\n",
       "      <th></th>\n",
       "      <th>object_area</th>\n",
       "      <th>object_price</th>\n",
       "      <th>object_rooms</th>\n",
       "      <th>prices_per_square_meter</th>\n",
       "    </tr>\n",
       "  </thead>\n",
       "  <tbody>\n",
       "    <tr>\n",
       "      <th>count</th>\n",
       "      <td>586.000000</td>\n",
       "      <td>586.000000</td>\n",
       "      <td>586.000000</td>\n",
       "      <td>586.000000</td>\n",
       "    </tr>\n",
       "    <tr>\n",
       "      <th>mean</th>\n",
       "      <td>81.038993</td>\n",
       "      <td>1945.663823</td>\n",
       "      <td>2.511945</td>\n",
       "      <td>25.822526</td>\n",
       "    </tr>\n",
       "    <tr>\n",
       "      <th>std</th>\n",
       "      <td>46.741605</td>\n",
       "      <td>1185.710510</td>\n",
       "      <td>1.169715</td>\n",
       "      <td>10.999576</td>\n",
       "    </tr>\n",
       "    <tr>\n",
       "      <th>min</th>\n",
       "      <td>15.000000</td>\n",
       "      <td>500.000000</td>\n",
       "      <td>1.000000</td>\n",
       "      <td>11.000000</td>\n",
       "    </tr>\n",
       "    <tr>\n",
       "      <th>25%</th>\n",
       "      <td>54.187500</td>\n",
       "      <td>1290.000000</td>\n",
       "      <td>2.000000</td>\n",
       "      <td>20.000000</td>\n",
       "    </tr>\n",
       "    <tr>\n",
       "      <th>50%</th>\n",
       "      <td>74.000000</td>\n",
       "      <td>1680.000000</td>\n",
       "      <td>2.000000</td>\n",
       "      <td>23.000000</td>\n",
       "    </tr>\n",
       "    <tr>\n",
       "      <th>75%</th>\n",
       "      <td>94.502500</td>\n",
       "      <td>2160.000000</td>\n",
       "      <td>3.000000</td>\n",
       "      <td>28.000000</td>\n",
       "    </tr>\n",
       "    <tr>\n",
       "      <th>max</th>\n",
       "      <td>420.000000</td>\n",
       "      <td>12300.000000</td>\n",
       "      <td>9.000000</td>\n",
       "      <td>98.000000</td>\n",
       "    </tr>\n",
       "  </tbody>\n",
       "</table>\n",
       "</div>"
      ],
      "text/plain": [
       "       object_area  object_price  object_rooms  prices_per_square_meter\n",
       "count   586.000000    586.000000    586.000000               586.000000\n",
       "mean     81.038993   1945.663823      2.511945                25.822526\n",
       "std      46.741605   1185.710510      1.169715                10.999576\n",
       "min      15.000000    500.000000      1.000000                11.000000\n",
       "25%      54.187500   1290.000000      2.000000                20.000000\n",
       "50%      74.000000   1680.000000      2.000000                23.000000\n",
       "75%      94.502500   2160.000000      3.000000                28.000000\n",
       "max     420.000000  12300.000000      9.000000                98.000000"
      ]
     },
     "execution_count": 451,
     "metadata": {},
     "output_type": "execute_result"
    }
   ],
   "source": [
    "df9.describe().iloc[:, :4]"
   ]
  },
  {
   "cell_type": "markdown",
   "id": "c1982494",
   "metadata": {},
   "source": [
    "To get a feeling about the data distribution it can be done by read and understand the table above. But it´s much easy if the data is visualized.\n",
    "I start with the \"object_area\"."
   ]
  },
  {
   "cell_type": "code",
   "execution_count": 452,
   "id": "b92d368a",
   "metadata": {},
   "outputs": [
    {
     "data": {
      "image/png": "[encoded data removed]",
      "text/plain": [
       "<Figure size 640x480 with 1 Axes>"
      ]
     },
     "metadata": {},
     "output_type": "display_data"
    },
    {
     "data": {
      "image/png": "[encoded data removed]",
      "text/plain": [
       "<Figure size 640x480 with 1 Axes>"
      ]
     },
     "metadata": {},
     "output_type": "display_data"
    }
   ],
   "source": [
    "sns.histplot(x=\"object_area\", data=df9)\n",
    "plt.axvline(x=df9[\"object_area\"].mean(),\n",
    "            color='red')\n",
    "plt.axvline(x=df9[\"object_area\"].median(),\n",
    "            color='green')\n",
    "plt.legend(labels=['Mean', 'Median'])\n",
    "plt.grid(alpha=0.3)\n",
    "plt.show()\n",
    "plt.close()\n",
    "sns.boxplot(x=\"object_area\", data=df7)\n",
    "plt.grid(alpha=0.3)\n",
    "plt.show()"
   ]
  },
  {
   "cell_type": "markdown",
   "id": "8a8f1992",
   "metadata": {},
   "source": [
    "The distribution of the feature \"object_area\" is right skewed. That means that there are many \"big\" values which are far away from the mean. This can happen naturally then there is a lower limit but not a upper. In the case of the object are there is a natural limit which goes in the direction of zero, but can´t be zero. In the over direction there is just a theoretical limit.\n",
    "This can have an impact on my machine learning model. If the choose machine learning model based on linearity then the data needs to be transfrom.\n",
    "In the Box-Plot I can see that there are potential outliers. "
   ]
  },
  {
   "cell_type": "code",
   "execution_count": 453,
   "id": "6a166692",
   "metadata": {},
   "outputs": [
    {
     "data": {
      "image/png": "[encoded data removed]",
      "text/plain": [
       "<Figure size 640x480 with 1 Axes>"
      ]
     },
     "metadata": {},
     "output_type": "display_data"
    },
    {
     "data": {
      "image/png": "[encoded data removed]",
      "text/plain": [
       "<Figure size 640x480 with 1 Axes>"
      ]
     },
     "metadata": {},
     "output_type": "display_data"
    }
   ],
   "source": [
    "sns.histplot(x=\"object_price\", data=df9)\n",
    "plt.axvline(x=df9[\"object_price\"].mean(),\n",
    "            color='red')\n",
    "plt.axvline(x=df9[\"object_price\"].median(),\n",
    "            color='green')\n",
    "plt.legend(labels=['Mean', 'Median'])\n",
    "plt.grid(alpha=0.3)\n",
    "plt.show()\n",
    "plt.close()\n",
    "sns.boxplot(x=\"object_price\", data=df7)\n",
    "plt.grid(alpha=0.3)\n",
    "plt.show()"
   ]
  },
  {
   "cell_type": "markdown",
   "id": "b2b6e758",
   "metadata": {},
   "source": [
    "There is a similar picture for the feature \"object_price\". The distribution is so similar that the correlation must be very high. More on that later."
   ]
  },
  {
   "cell_type": "code",
   "execution_count": 454,
   "id": "c6e29651",
   "metadata": {},
   "outputs": [
    {
     "data": {
      "image/png": "[encoded data removed]",
      "text/plain": [
       "<Figure size 640x480 with 1 Axes>"
      ]
     },
     "metadata": {},
     "output_type": "display_data"
    },
    {
     "data": {
      "image/png": "[encoded data removed]",
      "text/plain": [
       "<Figure size 640x480 with 1 Axes>"
      ]
     },
     "metadata": {},
     "output_type": "display_data"
    }
   ],
   "source": [
    "sns.histplot(x=\"object_rooms\", data=df9)\n",
    "plt.legend(labels=['Mean', 'Median'])\n",
    "plt.axvline(x=df9[\"object_rooms\"].mean(),\n",
    "            color='red')\n",
    "plt.axvline(x=df9[\"object_rooms\"].median(),\n",
    "            color='green')\n",
    "plt.grid(alpha=0.3)\n",
    "plt.show()\n",
    "plt.close()\n",
    "sns.boxplot(x=\"object_rooms\", data=df7)\n",
    "plt.grid(alpha=0.3)\n",
    "plt.show()"
   ]
  },
  {
   "cell_type": "markdown",
   "id": "a81cb4c6",
   "metadata": {},
   "source": [
    "The \"object_rooms\" has also the same similarity to the other features."
   ]
  },
  {
   "cell_type": "code",
   "execution_count": null,
   "id": "5ea89ef8",
   "metadata": {},
   "outputs": [],
   "source": []
  }
 ],
 "metadata": {
  "kernelspec": {
   "display_name": "Python 3 (ipykernel)",
   "language": "python",
   "name": "python3"
  },
  "language_info": {
   "codemirror_mode": {
    "name": "ipython",
    "version": 3
   },
   "file_extension": ".py",
   "mimetype": "text/x-python",
   "name": "python",
   "nbconvert_exporter": "python",
   "pygments_lexer": "ipython3",
   "version": "3.9.13"
  }
 },
 "nbformat": 4,
 "nbformat_minor": 5
}
